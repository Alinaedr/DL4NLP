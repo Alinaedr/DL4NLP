{
 "cells": [
  {
   "cell_type": "markdown",
   "source": [
    "# Chapter 3: Text Embeddings"
   ],
   "metadata": {
    "collapsed": false
   }
  },
  {
   "cell_type": "markdown",
   "source": [
    "## 3.1 Embeddings\n",
    "\n",
    "Embeddings are procedures that turn input data into vectors.  Recall from chapter 1 that there are 2 kinds:\n",
    "* Representational embeddings are designed by hand and thus human-interpretable.\n",
    "* Operational embeddings are learned from data"
   ],
   "metadata": {
    "collapsed": false
   }
  },
  {
   "cell_type": "code",
   "execution_count": 2,
   "outputs": [],
   "source": [
    "import numpy as np\n",
    "from keras.models import Sequential\n",
    "from keras.layers import Embedding, Flatten, Dense\n",
    "from sklearn.feature_extraction.text import CountVectorizer\n",
    "from keras.preprocessing.sequence import pad_sequences\n",
    "from sklearn.manifold import TSNE\n",
    "import matplotlib.pyplot as plt\n",
    "import codecs\n",
    "import re"
   ],
   "metadata": {
    "collapsed": false,
    "pycharm": {
     "name": "#%%\n"
    }
   }
  },
  {
   "cell_type": "markdown",
   "source": [
    "### 3.1.1 Embed by Hand: Representational Embeddings\n",
    "**one-hot embeddings**\n",
    "Every element of this vector embedding is zero, except at a single meaningful index.\n",
    "<img src=\"images/oneHot.png/\">\n",
    "\n",
    "Given the embedding above:\n",
    "The word _cat_ is represented by the vector $ [0, 1, 0, 0, 0, 0 ]$\n",
    "The word _sat_ is represented by the vector $ [0, 0, 1, 0,0, 0, ]$\n"
   ],
   "metadata": {
    "collapsed": false
   }
  },
  {
   "cell_type": "code",
   "execution_count": 3,
   "outputs": [
    {
     "data": {
      "text/plain": "array([0, 0, 0, 0, 0, 0, 1])"
     },
     "execution_count": 3,
     "metadata": {},
     "output_type": "execute_result"
    }
   ],
   "source": [
    "def one_hot(lexicon, word):\n",
    "    '''\n",
    "\n",
    "\n",
    "    :param lexicon: A sentence string\n",
    "    :param word: a string\n",
    "    :return: np.array one-hot vector representing the word from the given lexicon\n",
    "    '''\n",
    "    lexicon = np.array(lexicon.split(' ')) # split sentence into words\n",
    "    return np.multiply(lexicon == word, 1) # multiply turns True/False into integers 1, 0\n",
    "\n",
    "lex = 'want to go swim at the beach'\n",
    "\n",
    "one_hot(lex, 'beach' )"
   ],
   "metadata": {
    "collapsed": false,
    "pycharm": {
     "name": "#%%\n"
    }
   }
  },
  {
   "cell_type": "markdown",
   "source": [
    "Ideally, words that are related to each other will generally lie close to each other in vector space, but note below that there spatial distance does not make sense from a linguistic perspective since different one-hot vectors only differ by just one bit.\n",
    "As such one-hot embeddings are used when distance-based similarity does not come into play."
   ],
   "metadata": {
    "collapsed": false
   }
  },
  {
   "cell_type": "code",
   "execution_count": 4,
   "outputs": [
    {
     "name": "stdout",
     "output_type": "stream",
     "text": [
      "distance between \"beach\" and \"swim\": 1.4142135623730951\n",
      "distance between \"beach\" and \"want\": 1.4142135623730951\n"
     ]
    }
   ],
   "source": [
    "a = one_hot(lex, 'beach')\n",
    "b = one_hot(lex, 'swim')\n",
    "c = one_hot(lex, 'want')\n",
    "print(f'distance between \\\"beach\\\" and \\\"swim\\\": {np.linalg.norm(a - b)}')\n",
    "print(f'distance between \\\"beach\\\" and \\\"want\\\": {np.linalg.norm(a - c)}')\n"
   ],
   "metadata": {
    "collapsed": false,
    "pycharm": {
     "name": "#%%\n"
    }
   }
  },
  {
   "cell_type": "markdown",
   "source": [
    "### 3.1.1 Learning to Embed: Procedural embeddings\n",
    "Keras Embeddings layers deploy a matrix of weights that are optimized (like a mini single layer network) using a loss function.\n",
    "The implicit, default loss function is one that maximizes the distinctiveness of vector representations.\n",
    "\n",
    "The embedding below generates, for every array of 10 integers (a row in the input matrix), a 10x8 matrix consisting of 8-dimensional values, one for every integer in the integer array.\n"
   ],
   "metadata": {
    "collapsed": false
   }
  },
  {
   "cell_type": "code",
   "execution_count": 5,
   "outputs": [
    {
     "name": "stdout",
     "output_type": "stream",
     "text": [
      "input dim: (10, 10)\n",
      "output dim: (10, 10, 8)\n"
     ]
    }
   ],
   "source": [
    "\n",
    "model = Sequential() # create the model container\n",
    "model.add(Embedding(input_dim=100, output_dim=8, input_length=10))   # add an embedding for 100 integers, arranged in blocks of 10\n",
    "input_array = np.random.randint(100, size=(10, 10)) # a random input\n",
    "model.compile('rmsprop', 'mse') # “compile the model, setting the loss function to 'mean squared error', and using the rmsprop optimizer. ”\n",
    "output_array = model.predict(input_array) # generate embeddings\n",
    "print(f'input dim: {input_array.shape}')\n",
    "print(f'output dim: {output_array.shape}')"
   ],
   "metadata": {
    "collapsed": false,
    "pycharm": {
     "name": "#%%\n"
    }
   }
  },
  {
   "cell_type": "markdown",
   "source": [
    "Applied to text, we can represent a set of documents as a vector of integers and create a standard embedding of these documents in a similar way"
   ],
   "metadata": {
    "collapsed": false
   }
  },
  {
   "cell_type": "code",
   "execution_count": 8,
   "outputs": [
    {
     "name": "stdout",
     "output_type": "stream",
     "text": [
      "{'chuck': 21, 'berry': 11, 'rolled': 74, 'over': 67, 'everyone': 27, 'who': 97, 'came': 15, 'before': 10, 'him': 41, 'and': 5, 'turned': 90, 'up': 92, 'after': 1, 'we': 96, 'll': 53, 'miss': 57, 'you': 102, 'help': 38, 'protect': 72, 'the': 85, 'progress': 71, 've': 93, 'made': 54, 'in': 43, 'helping': 39, 'millions': 56, 'of': 63, 'americans': 4, 'get': 32, 'covered': 24, 'let': 52, 'leave': 51, 'our': 66, 'children': 20, 'grandchildren': 34, 'planet': 70, 'that': 84, 'healthier': 37, 'than': 83, 'one': 65, 'have': 36, 'today': 88, 'american': 3, 'people': 69, 'are': 6, 'waiting': 94, 'for': 29, 'senate': 75, 'leaders': 50, 'to': 87, 'do': 25, 'their': 86, 'jobs': 46, 'must': 58, 'take': 82, 'bold': 12, 'steps': 81, 'now': 62, 'climate': 22, 'change': 18, 'is': 44, 'already': 2, 'impacting': 42, 'don': 26, 'forget': 30, 'watch': 95, 'larry': 48, 'king': 47, 'tonight': 89, 'ivanka': 45, 'on': 64, 'twitter': 91, 'can': 16, 'follow': 28, 'her': 40, 'last': 49, 'night': 61, 'melania': 55, 'attended': 8, 'skating': 79, 'with': 99, 'stars': 80, 'gala': 31, 'at': 7, 'wollman': 100, 'rink': 73, 'central': 17, 'park': 68, 'ability': 0, 'work': 101, 'should': 77, 'but': 14, 'government': 33, 'happy': 35, 'send': 76, 'checks': 19, 'will': 98, 'be': 9, 'signing': 78, 'copies': 23, 'my': 59, 'new': 60, 'book': 13}\n"
     ]
    }
   ],
   "source": [
    "\n",
    "docs=[\"Chuck Berry rolled over everyone who came before him ? and turned up everyone who came after. We'll miss you\",\n",
    "      \"Help protect the progress we've made in helping millions of Americans get covered.\",\n",
    "      \"Let's leave our children and grandchildren a planet that's healthier than the one we have today.\",\n",
    "      \"The American people are waiting for Senate leaders to do their jobs.\",\n",
    "      \"We must take bold steps now ? climate change is already impacting millions of people.\",\n",
    "      \"Don't forget to watch Larry King tonight\",\n",
    "      \"Ivanka is now on Twitter - You can follow her\",\n",
    "      \"Last night Melania and I attended the Skating with the Stars Gala at Wollman Rink in Central Park\",\n",
    "      \"People who have the ability to work should. But with the government happy to send checks\",\n",
    "      \"I will be signing copies of my new book\"]\n",
    "\n",
    "docs=[d.lower() for d in docs] # make everything lower case\n",
    "\n",
    "count_vect = CountVectorizer().fit(docs) # maps every word to a unique arbitrary integer from the vocabulary\n",
    "tokenizer = count_vect.build_tokenizer() # initialize a tokenizer\n",
    "\n",
    "print(count_vect.vocabulary_)\n",
    "\n",
    "\n",
    "\n",
    "input_array=[]\n",
    "for doc in docs:\n",
    "    x=[]\n",
    "    for token in tokenizer(doc): #tokenizer(doc) just splits the string on white spaces to get a list of word strings\n",
    "        x.append(count_vect.vocabulary_.get(token)) # get the integer from the vocabulary assigned to each word in the doc\n",
    "    input_array.append(x)\n",
    "\n",
    "\n",
    "max_len=max([len(d) for d in input_array]) # max length of document\n",
    "input_array=pad_sequences(input_array, maxlen=max_len, padding='post') # pad with zeros so all vectors are the same length\n"
   ],
   "metadata": {
    "collapsed": false,
    "pycharm": {
     "name": "#%%\n"
    }
   }
  },
  {
   "cell_type": "markdown",
   "source": [
    "We can visualize the vector embeddings with the well-known visualization algorithm T-SNE (MaatenHinton2008). This algorithm maps high-dimensional vectors to lower-dimensional planes."
   ],
   "metadata": {
    "collapsed": false
   }
  },
  {
   "cell_type": "code",
   "execution_count": 11,
   "outputs": [
    {
     "data": {
      "text/plain": "<Figure size 576x576 with 1 Axes>",
      "image/png": "[encoded data removed]"
     },
     "metadata": {
      "needs_background": "light"
     },
     "output_type": "display_data"
    }
   ],
   "source": [
    "def tsne_plot(model,max_words=100):\n",
    "    labels = []\n",
    "    tokens = []\n",
    "\n",
    "    n=0\n",
    "    for word in model:\n",
    "        if n<max_words:\n",
    "            tokens.append(model[word])\n",
    "            labels.append(word)\n",
    "            n+=1\n",
    "\n",
    "\n",
    "    tsne_model = TSNE(perplexity=40, n_components=2, init='pca', n_iter=10000, random_state=23)\n",
    "    new_values = tsne_model.fit_transform(tokens)\n",
    "\n",
    "    x = []\n",
    "    y = []\n",
    "    for value in new_values:\n",
    "        x.append(value[0])\n",
    "        y.append(value[1])\n",
    "\n",
    "    plt.figure(figsize=(8, 8))\n",
    "    for i in range(len(x)):\n",
    "        plt.scatter(x[i],y[i])\n",
    "        plt.annotate(labels[i],\n",
    "                     xy=(x[i], y[i]),\n",
    "                     xytext=(5, 2),\n",
    "                     textcoords='offset points',\n",
    "                     ha='right',\n",
    "                     va='bottom')\n",
    "    plt.show()\n",
    "\n",
    "model = Sequential()\n",
    "model.add(Embedding(100, 8, input_length=10))\n",
    "input_array = np.random.randint(100, size=(10, 10))\n",
    "model.compile('rmsprop', 'mse')\n",
    "output_array = model.predict(input_array.T)\n",
    "\n",
    "M={}\n",
    "for i in range(len(input_array)):\n",
    "    for j in range(len(input_array[i])):\n",
    "        M[input_array[i][j]]=output_array[i][j]\n",
    "\n",
    "tsne_plot(M)"
   ],
   "metadata": {
    "collapsed": false,
    "pycharm": {
     "name": "#%%\n"
    }
   }
  },
  {
   "cell_type": "markdown",
   "source": [
    " - so a lexicon is represented by a vocabulary that maps words to integers.\n",
    " - a single word is represented by an _integer_.\n",
    " - each _integer_ is then represented by the output of `model.predict()`, which gives an 8-dimensional array\n",
    "So each word is represented by this 8-dim vector in model output space.\n",
    "\n",
    "Note that spatial distance in the plot above does not reflect any semantic differences because our choice of optimizer `(rmsprop)` for the Embed layer didn't account for this.\n",
    "\n",
    "**Training a word embedding**\n",
    "\n",
    "with training of the Embedding layer, words should be vectorized such that _they contribute maximally to discerning documents with positive sentiment from those with negative sentiment._\n",
    "In other words, the word embeddings that are learned are optimized in the context of a specific task.\n",
    "\n",
    "**Optimization of a Keras embedding.**\n",
    "\n",
    "A vector of integers (representing a set of documents) where each integer corresponds to a word string. Similar to the case above with random integers, but now we can add labels to denote positive and negative sentiment.\n",
    "We now train a word embedding constrained by a loss function that aims for _maximum separation of the documents_."
   ],
   "metadata": {
    "collapsed": false
   }
  },
  {
   "cell_type": "code",
   "execution_count": null,
   "outputs": [],
   "source": [
    "\n",
    "def save_embedding(outputFile, weights, vocabulary):\n",
    "    rev = {v:k for k, v in vocabulary.iteritems()}\n",
    "    with codecs.open(outputFile, \"w\") as f:\n",
    "        f.write(str(len(vocabulary)) + \" \" + str(weights.shape[1]) + \"\\n\")\n",
    "        for index in sorted(rev.iterkeys()):\n",
    "            word=rev[index]\n",
    "            f.write(word + \" \")\n",
    "            for i in range(len(weights[index])):\n",
    "                f.write(str(weights[index][i]) + \" \")\n",
    "            f.write(\"\\n\")\n",
    "\n",
    "\n",
    "def getLines(f):\n",
    "    lines = [line.rstrip() for line in open(f)]\n",
    "    return lines\n",
    "\n",
    "\n",
    "\n",
    "def create_vocabulary(vocabulary, sentences):\n",
    "    vocabulary[\"<unk>\"]=0\n",
    "    for sentence in sentences:\n",
    "        for word in sentence.strip().split():\n",
    "            word=re.sub(\"[.,:;'\\\"!?()]+\",\"\",word.lower())\n",
    "            if word not in vocabulary:\n",
    "                vocabulary[word]=len(vocabulary)\n",
    "\n",
    "\n",
    "def process_training_data(textFile,max_len):\n",
    "    data=[]\n",
    "    sentences = getLines(textFile)\n",
    "    vocab = dict()\n",
    "    labels=[]\n",
    "    create_vocabulary(vocab, sentences)\n",
    "    for s in sentences:\n",
    "        words=[]\n",
    "        m=re.match(\"^([^\\t]+)\\t(.+)$\",s.rstrip())\n",
    "        if m:\n",
    "            sentence=m.group(1)\n",
    "            labels.append(int(m.group(2)))\n",
    "        for w in sentence.split(\" \"):\n",
    "            w=re.sub(\"[.,:;'\\\"!?()]+\",\"\",w.lower())\n",
    "            if w!='':\n",
    "                words.append(vocab[w])\n",
    "        data.append(words)\n",
    "    data = pad_sequences(data, maxlen=max_len, padding='post')\n",
    "\n",
    "    return data,labels, vocab\n",
    "\n",
    "\n",
    "def process_test_data(textFile,vocab,max_len):\n",
    "    data=[]\n",
    "    sentences = getLines(textFile)\n",
    "    labels=[]\n",
    "    create_vocabulary(vocab, sentences)\n",
    "    for s in sentences:\n",
    "        words=[]\n",
    "        m=re.match(\"^([^\\t]+)\\t(.+)$\",s.rstrip())\n",
    "        if m:\n",
    "            sentence=m.group(1)\n",
    "            labels.append(int(m.group(2)))\n",
    "        for w in sentence.split(\" \"):\n",
    "            w=re.sub(\"[.,:;'\\\"!?()]+\",\"\",w.lower())\n",
    "            if w!='':\n",
    "                if w in vocab:\n",
    "                    words.append(vocab[w])\n",
    "                else:\n",
    "                    words.append(vocab[\"<unk>\"])\n",
    "        data.append(words)\n",
    "    data = pad_sequences(data, maxlen=max_len, padding='post')\n",
    "    return data,labels\n",
    "\n",
    "\n",
    "max_len=100\n",
    "data,labels,vocab=process_training_data(sys.argv[1],max_len)  # TODO find right data file path\n",
    "test_data,test_labels=process_test_data(sys.argv[2],vocab,max_len) # TODO find right data file path\n",
    "\n",
    "model = Sequential()\n",
    "embedding=Embedding(len(vocab), 100, input_length=max_len)\n",
    "model.add(embedding)\n",
    "model.add(Flatten())\n",
    "model.add(Dense(1,activation=\"sigmoid\"))\n",
    "model.compile(loss='binary_crossentropy', optimizer='adam',metrics=['acc'])\n",
    "model.fit(data,labels,epochs=100, verbose=1)\n",
    "\n",
    "loss, accuracy = model.evaluate(test_data, test_labels, verbose=0)\n",
    "print(accuracy)\n",
    "\n",
    "save_embedding(\"embedding_labeled.txt\", embedding.get_weights()[0], vocab)\n",
    "\n"
   ],
   "metadata": {
    "collapsed": false,
    "pycharm": {
     "name": "#%%\n"
    }
   }
  },
  {
   "cell_type": "markdown",
   "source": [
    "## 3.2 From Words to Vectors: word2vec"
   ],
   "metadata": {
    "collapsed": false
   }
  },
  {
   "cell_type": "markdown",
   "source": [
    "## 3.3 From Documents to Vector: doc2vec"
   ],
   "metadata": {
    "collapsed": false
   }
  },
  {
   "cell_type": "markdown",
   "source": [
    "## 3.4 Summary"
   ],
   "metadata": {
    "collapsed": false
   }
  },
  {
   "cell_type": "code",
   "execution_count": null,
   "metadata": {
    "collapsed": true
   },
   "outputs": [],
   "source": []
  }
 ],
 "metadata": {
  "kernelspec": {
   "name": "pycharm-f7c24000",
   "language": "python",
   "display_name": "PyCharm (mTurkBx)"
  },
  "language_info": {
   "codemirror_mode": {
    "name": "ipython",
    "version": 2
   },
   "file_extension": ".py",
   "mimetype": "text/x-python",
   "name": "python",
   "nbconvert_exporter": "python",
   "pygments_lexer": "ipython2",
   "version": "2.7.6"
  }
 },
 "nbformat": 4,
 "nbformat_minor": 0
}