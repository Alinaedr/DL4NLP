{
 "cells": [
  {
   "cell_type": "markdown",
   "source": [
    "# Chapter 3: Text Embeddings"
   ],
   "metadata": {
    "collapsed": false,
    "pycharm": {
     "name": "#%% md\n"
    }
   }
  },
  {
   "cell_type": "markdown",
   "source": [
    "## 3.1 Embeddings\n",
    "\n",
    "Embeddings are procedures that turn input data into vectors.  Recall from chapter 1 that there are 2 kinds:\n",
    "* Representational embeddings are designed by hand and thus human-interpretable.\n",
    "* Operational embeddings are learned from data"
   ],
   "metadata": {
    "collapsed": false,
    "pycharm": {
     "name": "#%% md\n"
    }
   }
  },
  {
   "cell_type": "code",
   "execution_count": 1,
   "outputs": [
    {
     "name": "stderr",
     "output_type": "stream",
     "text": [
      "Using TensorFlow backend.\n"
     ]
    }
   ],
   "source": [
    "import numpy as np\n",
    "from keras.models import Sequential\n",
    "from keras.layers import Embedding, Flatten, Dense\n",
    "from sklearn.feature_extraction.text import CountVectorizer\n",
    "from keras.preprocessing.sequence import pad_sequences\n",
    "from sklearn.manifold import TSNE\n",
    "import matplotlib.pyplot as plt\n",
    "import codecs\n",
    "import re"
   ],
   "metadata": {
    "collapsed": false,
    "pycharm": {
     "name": "#%%\n"
    }
   }
  },
  {
   "cell_type": "markdown",
   "source": [
    "### 3.1.1 Embed by Hand: Representational Embeddings\n",
    "**one-hot embeddings**\n",
    "Every element of this vector embedding is zero, except at a single meaningful index.\n",
    "<img src=\"images/oneHot.png/\">\n",
    "\n",
    "Given the embedding above:\n",
    "The word _cat_ is represented by the vector $ [0, 1, 0, 0, 0, 0 ]$\n",
    "The word _sat_ is represented by the vector $ [0, 0, 1, 0,0, 0, ]$\n"
   ],
   "metadata": {
    "collapsed": false,
    "pycharm": {
     "name": "#%% md\n"
    }
   }
  },
  {
   "cell_type": "code",
   "execution_count": 3,
   "outputs": [
    {
     "data": {
      "text/plain": "array([0, 0, 0, 0, 0, 0, 1])"
     },
     "execution_count": 3,
     "metadata": {},
     "output_type": "execute_result"
    }
   ],
   "source": [
    "def one_hot(lexicon, word):\n",
    "    '''\n",
    "\n",
    "\n",
    "    :param lexicon: A sentence string\n",
    "    :param word: a string\n",
    "    :return: np.array one-hot vector representing the word from the given lexicon\n",
    "    '''\n",
    "    lexicon = np.array(lexicon.split(' ')) # split sentence into words\n",
    "    return np.multiply(lexicon == word, 1) # multiply turns True/False into integers 1, 0\n",
    "\n",
    "lex = 'want to go swim at the beach'\n",
    "\n",
    "one_hot(lex, 'beach' )"
   ],
   "metadata": {
    "collapsed": false,
    "pycharm": {
     "name": "#%%\n"
    }
   }
  },
  {
   "cell_type": "markdown",
   "source": [
    "Ideally, words that are related to each other will generally lie close to each other in vector space, but note below that there spatial distance does not make sense from a linguistic perspective since different one-hot vectors only differ by just one bit.\n",
    "As such one-hot embeddings are used when distance-based similarity does not come into play."
   ],
   "metadata": {
    "collapsed": false,
    "pycharm": {
     "name": "#%% md\n"
    }
   }
  },
  {
   "cell_type": "code",
   "execution_count": 4,
   "outputs": [
    {
     "name": "stdout",
     "output_type": "stream",
     "text": [
      "distance between \"beach\" and \"swim\": 1.4142135623730951\n",
      "distance between \"beach\" and \"want\": 1.4142135623730951\n"
     ]
    }
   ],
   "source": [
    "a = one_hot(lex, 'beach')\n",
    "b = one_hot(lex, 'swim')\n",
    "c = one_hot(lex, 'want')\n",
    "print(f'distance between \\\"beach\\\" and \\\"swim\\\": {np.linalg.norm(a - b)}')\n",
    "print(f'distance between \\\"beach\\\" and \\\"want\\\": {np.linalg.norm(a - c)}')\n"
   ],
   "metadata": {
    "collapsed": false,
    "pycharm": {
     "name": "#%%\n"
    }
   }
  },
  {
   "cell_type": "markdown",
   "source": [
    "### 3.1.1 Learning to Embed: Procedural embeddings\n",
    "Keras Embeddings layers deploy a matrix of weights that are optimized (like a mini single layer network) using a loss function.\n",
    "The implicit, default loss function is one that maximizes the distinctiveness of vector representations.\n",
    "\n",
    "The embedding below generates, for every array of 10 integers (a row in the input matrix), a 10x8 matrix consisting of 8-dimensional values, one for every integer in the integer array.\n"
   ],
   "metadata": {
    "collapsed": false,
    "pycharm": {
     "name": "#%% md\n"
    }
   }
  },
  {
   "cell_type": "code",
   "execution_count": 5,
   "outputs": [
    {
     "name": "stdout",
     "output_type": "stream",
     "text": [
      "input dim: (10, 10)\n",
      "output dim: (10, 10, 8)\n"
     ]
    }
   ],
   "source": [
    "\n",
    "model = Sequential() # create the model container\n",
    "model.add(Embedding(input_dim=100, output_dim=8, input_length=10))   # add an embedding for 100 integers, arranged in blocks of 10\n",
    "input_array = np.random.randint(100, size=(10, 10)) # a random input\n",
    "model.compile('rmsprop', 'mse') # “compile the model, setting the loss function to 'mean squared error', and using the rmsprop optimizer. ”\n",
    "output_array = model.predict(input_array) # generate embeddings\n",
    "print(f'input dim: {input_array.shape}')\n",
    "print(f'output dim: {output_array.shape}')"
   ],
   "metadata": {
    "collapsed": false,
    "pycharm": {
     "name": "#%%\n"
    }
   }
  },
  {
   "cell_type": "markdown",
   "source": [
    "Applied to text, we can represent a set of documents as a vector of integers and create a standard embedding of these documents in a similar way"
   ],
   "metadata": {
    "collapsed": false,
    "pycharm": {
     "name": "#%% md\n"
    }
   }
  },
  {
   "cell_type": "code",
   "execution_count": 2,
   "outputs": [
    {
     "name": "stdout",
     "output_type": "stream",
     "text": [
      "{'chuck': 21, 'berry': 11, 'rolled': 74, 'over': 67, 'everyone': 27, 'who': 97, 'came': 15, 'before': 10, 'him': 41, 'and': 5, 'turned': 90, 'up': 92, 'after': 1, 'we': 96, 'll': 53, 'miss': 57, 'you': 102, 'help': 38, 'protect': 72, 'the': 85, 'progress': 71, 've': 93, 'made': 54, 'in': 43, 'helping': 39, 'millions': 56, 'of': 63, 'americans': 4, 'get': 32, 'covered': 24, 'let': 52, 'leave': 51, 'our': 66, 'children': 20, 'grandchildren': 34, 'planet': 70, 'that': 84, 'healthier': 37, 'than': 83, 'one': 65, 'have': 36, 'today': 88, 'american': 3, 'people': 69, 'are': 6, 'waiting': 94, 'for': 29, 'senate': 75, 'leaders': 50, 'to': 87, 'do': 25, 'their': 86, 'jobs': 46, 'must': 58, 'take': 82, 'bold': 12, 'steps': 81, 'now': 62, 'climate': 22, 'change': 18, 'is': 44, 'already': 2, 'impacting': 42, 'don': 26, 'forget': 30, 'watch': 95, 'larry': 48, 'king': 47, 'tonight': 89, 'ivanka': 45, 'on': 64, 'twitter': 91, 'can': 16, 'follow': 28, 'her': 40, 'last': 49, 'night': 61, 'melania': 55, 'attended': 8, 'skating': 79, 'with': 99, 'stars': 80, 'gala': 31, 'at': 7, 'wollman': 100, 'rink': 73, 'central': 17, 'park': 68, 'ability': 0, 'work': 101, 'should': 77, 'but': 14, 'government': 33, 'happy': 35, 'send': 76, 'checks': 19, 'will': 98, 'be': 9, 'signing': 78, 'copies': 23, 'my': 59, 'new': 60, 'book': 13}\n"
     ]
    }
   ],
   "source": [
    "\n",
    "docs=[\"Chuck Berry rolled over everyone who came before him ? and turned up everyone who came after. We'll miss you\",\n",
    "      \"Help protect the progress we've made in helping millions of Americans get covered.\",\n",
    "      \"Let's leave our children and grandchildren a planet that's healthier than the one we have today.\",\n",
    "      \"The American people are waiting for Senate leaders to do their jobs.\",\n",
    "      \"We must take bold steps now ? climate change is already impacting millions of people.\",\n",
    "      \"Don't forget to watch Larry King tonight\",\n",
    "      \"Ivanka is now on Twitter - You can follow her\",\n",
    "      \"Last night Melania and I attended the Skating with the Stars Gala at Wollman Rink in Central Park\",\n",
    "      \"People who have the ability to work should. But with the government happy to send checks\",\n",
    "      \"I will be signing copies of my new book\"]\n",
    "\n",
    "docs=[d.lower() for d in docs] # make everything lower case\n",
    "\n",
    "count_vect = CountVectorizer().fit(docs) # maps every word to a unique arbitrary integer from the vocabulary\n",
    "tokenizer = count_vect.build_tokenizer() # initialize a tokenizer\n",
    "\n",
    "print(count_vect.vocabulary_)\n",
    "\n",
    "\n",
    "\n",
    "input_array=[]\n",
    "for doc in docs:\n",
    "    x=[]\n",
    "    for token in tokenizer(doc): #tokenizer(doc) just splits the string on white spaces to get a list of word strings\n",
    "        x.append(count_vect.vocabulary_.get(token)) # get the integer from the vocabulary assigned to each word in the doc\n",
    "    input_array.append(x)\n",
    "\n",
    "\n",
    "max_len=max([len(d) for d in input_array]) # max length of document\n",
    "input_array=pad_sequences(input_array, maxlen=max_len, padding='post') # pad with zeros so all vectors are the same length\n"
   ],
   "metadata": {
    "collapsed": false,
    "pycharm": {
     "name": "#%%\n"
    }
   }
  },
  {
   "cell_type": "markdown",
   "source": [
    "We can visualize the vector embeddings with the well-known visualization algorithm T-SNE (MaatenHinton2008). This algorithm maps high-dimensional vectors to lower-dimensional planes."
   ],
   "metadata": {
    "collapsed": false,
    "pycharm": {
     "name": "#%% md\n"
    }
   }
  },
  {
   "cell_type": "code",
   "execution_count": 5,
   "outputs": [
    {
     "data": {
      "text/plain": "<Figure size 576x576 with 1 Axes>",
      "image/png": "[encoded data removed]"
     },
     "metadata": {
      "needs_background": "light"
     },
     "output_type": "display_data"
    }
   ],
   "source": [
    "def tsne_plot(model,max_words=200):\n",
    "    labels = []\n",
    "    tokens = []\n",
    "\n",
    "    n=0\n",
    "    for word in model:\n",
    "        if n<max_words:\n",
    "            tokens.append(model[word])\n",
    "            labels.append(word)\n",
    "            n+=1\n",
    "\n",
    "\n",
    "    tsne_model = TSNE(perplexity=40, n_components=2, init='pca', n_iter=10000, random_state=23)\n",
    "    new_values = tsne_model.fit_transform(tokens)\n",
    "\n",
    "    x = []\n",
    "    y = []\n",
    "    for value in new_values:\n",
    "        x.append(value[0])\n",
    "        y.append(value[1])\n",
    "\n",
    "    plt.figure(figsize=(8, 8))\n",
    "    for i in range(len(x)):\n",
    "        plt.scatter(x[i],y[i])\n",
    "        plt.annotate(labels[i],\n",
    "                     xy=(x[i], y[i]),\n",
    "                     xytext=(5, 2),\n",
    "                     textcoords='offset points',\n",
    "                     ha='right',\n",
    "                     va='bottom')\n",
    "    plt.show()\n",
    "\n",
    "model = Sequential()\n",
    "model.add(Embedding(200, 8, input_length=20))\n",
    "#input_array = np.random.randint(100, size=(10, 10))\n",
    "model.compile('rmsprop', 'mse')\n",
    "output_array = model.predict(input_array)\n",
    "\n",
    "M={}\n",
    "for i in range(len(input_array)):\n",
    "    for j in range(len(input_array[i])):\n",
    "        M[input_array[i][j]]=output_array[i][j]\n",
    "\n",
    "tsne_plot(M)"
   ],
   "metadata": {
    "collapsed": false,
    "pycharm": {
     "name": "#%%\n"
    }
   }
  },
  {
   "cell_type": "markdown",
   "source": [
    " - so a lexicon is represented by a vocabulary that maps words to integers.\n",
    " - a single word is represented by an _integer_.\n",
    " - each _integer_ is then represented by the output of `model.predict()`, which gives an 8-dimensional array\n",
    "So each word is represented by this 8-dim vector in model output space.\n",
    "\n",
    "Note that spatial distance in the plot above does not reflect any semantic differences because our choice of optimizer `(rmsprop)` for the Embed layer didn't account for this.\n",
    "\n",
    "**Training a word embedding**\n",
    "\n",
    "with training of the Embedding layer, words should be vectorized such that _they contribute maximally to discerning documents with positive sentiment from those with negative sentiment._\n",
    "In other words, the word embeddings that are learned are optimized in the context of a specific task.\n",
    "\n",
    "**Optimization of a Keras embedding.**\n",
    "\n",
    "A vector of integers (representing a set of documents) where each integer corresponds to a word string. Similar to the case above with random integers, but now we can add labels to denote positive and negative sentiment.\n",
    "We now train a word embedding constrained by a loss function that aims for _maximum separation of the documents_.\n",
    "Note that the difference between the cell above and a trained embedding layer is the addition of a loss function that aims to maximize discriminability of the documents."
   ],
   "metadata": {
    "collapsed": false,
    "pycharm": {
     "name": "#%% md\n"
    }
   }
  },
  {
   "cell_type": "code",
   "execution_count": 10,
   "outputs": [
    {
     "name": "stdout",
     "output_type": "stream",
     "text": [
      "we\n"
     ]
    }
   ],
   "source": [
    "count_vect.vocabulary_\n",
    "print(list(count_vect.vocabulary_.keys())[list(count_vect.vocabulary_.values()).index(96)])\n"
   ],
   "metadata": {
    "collapsed": false,
    "pycharm": {
     "name": "#%%\n"
    }
   }
  },
  {
   "cell_type": "code",
   "execution_count": 9,
   "outputs": [],
   "source": [
    "'''\n",
    "import pandas as pd\n",
    "data = pd.read_csv('../Data/Restaurant_Reviews.tsv', sep='\\t',  encoding = \"ISO-8859-1\")\n",
    "data.iloc[:700].to_csv('../Data/RestaurantReviews_training.tsv', sep='\\t', index=False, header=False)\n",
    "data.iloc[700:].to_csv('../Data/RestaurantReviews_test.tsv', sep='\\t', index=False, header=False)\n",
    "'''"
   ],
   "metadata": {
    "collapsed": false,
    "pycharm": {
     "name": "#%%\n"
    }
   }
  },
  {
   "cell_type": "code",
   "execution_count": 17,
   "outputs": [],
   "source": [
    "\n",
    "def save_embedding(outputFile, weights, vocabulary):\n",
    "    '''\n",
    "    This function saves a text file containing each word in the vocabulary and the embedding weights that were learned in the model.\n",
    "\n",
    "    :param outputFile:\n",
    "    :param weights:\n",
    "    :param vocabulary:\n",
    "    :return:\n",
    "    '''\n",
    "    rev = {v:k for k, v in vocabulary.items()} # reverses the dictionary from words --> integer to go from integer --> words\n",
    "    with codecs.open(outputFile, \"w\") as f:\n",
    "        f.write(str(len(vocabulary)) + \" \" + str(weights.shape[1]) + \"\\n\")\n",
    "        for index in sorted(rev.keys()):\n",
    "            word=rev[index]\n",
    "            f.write(word + \" \")\n",
    "            for i in range(len(weights[index])):\n",
    "                f.write(str(weights[index][i]) + \" \")\n",
    "            f.write(\"\\n\")\n",
    "\n",
    "\n",
    "def getLines(f):\n",
    "    ''' Given a path to a .tsv file, this function returns a list of strings corresponding to each row of the .tsv file. Columns are joined together in a single string per row separated by \\t (denoting a tab) '''\n",
    "    lines = [line.rstrip() for line in open(f)]\n",
    "    return lines\n",
    "\n",
    "\n",
    "\n",
    "def create_vocabulary(vocabulary, sentences):\n",
    "    '''\n",
    "\n",
    "    :param vocabulary: an empty dictionary\n",
    "    :param sentences: a list of strings representing the rows of the .tsv file containing restaurant review data\n",
    "    :return: a dictionary mapping every unique word in the sentences list, to an integer\n",
    "    '''\n",
    "    vocabulary[\"<unk>\"]=0\n",
    "    for sentence in sentences: #for each row in the .tsv data file\n",
    "        for word in sentence.strip().split(): # each row is a string that is split into a list of words\n",
    "            word=re.sub(\"[.,:;'\\\"!?()]+\",\"\",word.lower()) # replace special characters with nothing, and make all words lowercase\n",
    "            if word not in vocabulary: # make sure each word is unique\n",
    "                vocabulary[word]=len(vocabulary) # assign an integer to the word\n",
    "\n",
    "\n",
    "def process_training_data(textFile,max_len):\n",
    "    data=[]\n",
    "    sentences = getLines(textFile)\n",
    "    vocab = dict()\n",
    "    labels=[]\n",
    "    create_vocabulary(vocab, sentences)\n",
    "    for s in sentences:\n",
    "        words=[]\n",
    "        m=re.match(\"^([^\\t]+)\\t(.+)$\",s.rstrip())\n",
    "        if m:\n",
    "            sentence=m.group(1)\n",
    "            labels.append(int(m.group(2)))\n",
    "            for w in sentence.split(\" \"):\n",
    "                w=re.sub(\"[.,:;'\\\"!?()]+\",\"\",w.lower())\n",
    "                if w!='':\n",
    "                    words.append(vocab[w])\n",
    "        data.append(words)\n",
    "    data = pad_sequences(data, maxlen=max_len, padding='post')\n",
    "\n",
    "    return data,labels, vocab\n",
    "\n",
    "\n",
    "def process_test_data(textFile,vocab,max_len):\n",
    "    data=[]\n",
    "    sentences = getLines(textFile)\n",
    "    labels=[]\n",
    "    create_vocabulary(vocab, sentences)\n",
    "    for s in sentences:\n",
    "        words=[]\n",
    "        m=re.match(\"^([^\\t]+)\\t(.+)$\",s.rstrip())\n",
    "        if m:\n",
    "            sentence=m.group(1)\n",
    "            labels.append(int(m.group(2)))\n",
    "            for w in sentence.split(\" \"):\n",
    "                w=re.sub(\"[.,:;'\\\"!?()]+\",\"\",w.lower())\n",
    "                if w!='':\n",
    "                    if w in vocab:\n",
    "                        words.append(vocab[w])\n",
    "                    else:\n",
    "                        words.append(vocab[\"<unk>\"])\n",
    "        data.append(words)\n",
    "    data = pad_sequences(data, maxlen=max_len, padding='post')\n",
    "    return data,labels\n",
    "\n",
    "\n"
   ],
   "metadata": {
    "collapsed": false,
    "pycharm": {
     "name": "#%%\n"
    }
   }
  },
  {
   "cell_type": "code",
   "execution_count": 14,
   "outputs": [
    {
     "name": "stderr",
     "output_type": "stream",
     "text": [
      "/Users/bryangonzalez/opt/anaconda3/envs/mTurkBx/lib/python3.7/site-packages/tensorflow_core/python/framework/indexed_slices.py:424: UserWarning: Converting sparse IndexedSlices to a dense Tensor of unknown shape. This may consume a large amount of memory.\n",
      "  \"Converting sparse IndexedSlices to a dense Tensor of unknown shape. \"\n"
     ]
    },
    {
     "name": "stdout",
     "output_type": "stream",
     "text": [
      "Epoch 1/100\n",
      "700/700 [==============================] - 1s 1ms/step - loss: 0.6904 - acc: 0.5643\n",
      "Epoch 2/100\n",
      "700/700 [==============================] - 0s 410us/step - loss: 0.6721 - acc: 0.5557\n",
      "Epoch 3/100\n",
      "700/700 [==============================] - 0s 354us/step - loss: 0.6296 - acc: 0.7100\n",
      "Epoch 4/100\n",
      "700/700 [==============================] - 0s 316us/step - loss: 0.5645 - acc: 0.7800\n",
      "Epoch 5/100\n",
      "700/700 [==============================] - 0s 319us/step - loss: 0.4740 - acc: 0.8871\n",
      "Epoch 6/100\n",
      "700/700 [==============================] - 0s 333us/step - loss: 0.3745 - acc: 0.9314\n",
      "Epoch 7/100\n",
      "700/700 [==============================] - 0s 325us/step - loss: 0.2874 - acc: 0.9743\n",
      "Epoch 8/100\n",
      "700/700 [==============================] - 0s 323us/step - loss: 0.2156 - acc: 0.9829\n",
      "Epoch 9/100\n",
      "700/700 [==============================] - 0s 336us/step - loss: 0.1648 - acc: 0.9900\n",
      "Epoch 10/100\n",
      "700/700 [==============================] - 0s 303us/step - loss: 0.1280 - acc: 0.9929\n",
      "Epoch 11/100\n",
      "700/700 [==============================] - 0s 312us/step - loss: 0.1016 - acc: 0.9943\n",
      "Epoch 12/100\n",
      "700/700 [==============================] - 0s 340us/step - loss: 0.0819 - acc: 0.9943\n",
      "Epoch 13/100\n",
      "700/700 [==============================] - 0s 344us/step - loss: 0.0669 - acc: 0.9971\n",
      "Epoch 14/100\n",
      "700/700 [==============================] - 0s 314us/step - loss: 0.0555 - acc: 0.9986\n",
      "Epoch 15/100\n",
      "700/700 [==============================] - 0s 305us/step - loss: 0.0464 - acc: 1.0000\n",
      "Epoch 16/100\n",
      "700/700 [==============================] - 0s 315us/step - loss: 0.0398 - acc: 1.0000\n",
      "Epoch 17/100\n",
      "700/700 [==============================] - 0s 325us/step - loss: 0.0342 - acc: 1.0000\n",
      "Epoch 18/100\n",
      "700/700 [==============================] - 0s 346us/step - loss: 0.0294 - acc: 1.0000\n",
      "Epoch 19/100\n",
      "700/700 [==============================] - 0s 348us/step - loss: 0.0257 - acc: 1.0000\n",
      "Epoch 20/100\n",
      "700/700 [==============================] - 0s 334us/step - loss: 0.0226 - acc: 1.0000\n",
      "Epoch 21/100\n",
      "700/700 [==============================] - 0s 319us/step - loss: 0.0201 - acc: 1.0000\n",
      "Epoch 22/100\n",
      "700/700 [==============================] - 0s 329us/step - loss: 0.0178 - acc: 1.0000\n",
      "Epoch 23/100\n",
      "700/700 [==============================] - 0s 323us/step - loss: 0.0160 - acc: 1.0000\n",
      "Epoch 24/100\n",
      "700/700 [==============================] - 0s 331us/step - loss: 0.0144 - acc: 1.0000\n",
      "Epoch 25/100\n",
      "700/700 [==============================] - 0s 326us/step - loss: 0.0130 - acc: 1.0000\n",
      "Epoch 26/100\n",
      "700/700 [==============================] - 0s 331us/step - loss: 0.0118 - acc: 1.0000\n",
      "Epoch 27/100\n",
      "700/700 [==============================] - 0s 326us/step - loss: 0.0108 - acc: 1.0000\n",
      "Epoch 28/100\n",
      "700/700 [==============================] - 0s 320us/step - loss: 0.0099 - acc: 1.0000\n",
      "Epoch 29/100\n",
      "700/700 [==============================] - 0s 350us/step - loss: 0.0091 - acc: 1.0000\n",
      "Epoch 30/100\n",
      "700/700 [==============================] - 0s 330us/step - loss: 0.0084 - acc: 1.0000\n",
      "Epoch 31/100\n",
      "700/700 [==============================] - 0s 326us/step - loss: 0.0077 - acc: 1.0000\n",
      "Epoch 32/100\n",
      "700/700 [==============================] - 0s 323us/step - loss: 0.0072 - acc: 1.0000\n",
      "Epoch 33/100\n",
      "700/700 [==============================] - 0s 331us/step - loss: 0.0067 - acc: 1.0000\n",
      "Epoch 34/100\n",
      "700/700 [==============================] - 0s 328us/step - loss: 0.0062 - acc: 1.0000\n",
      "Epoch 35/100\n",
      "700/700 [==============================] - 0s 330us/step - loss: 0.0058 - acc: 1.0000\n",
      "Epoch 36/100\n",
      "700/700 [==============================] - 0s 323us/step - loss: 0.0055 - acc: 1.0000\n",
      "Epoch 37/100\n",
      "700/700 [==============================] - 0s 333us/step - loss: 0.0051 - acc: 1.0000\n",
      "Epoch 38/100\n",
      "700/700 [==============================] - 0s 334us/step - loss: 0.0048 - acc: 1.0000\n",
      "Epoch 39/100\n",
      "700/700 [==============================] - 0s 349us/step - loss: 0.0045 - acc: 1.0000\n",
      "Epoch 40/100\n",
      "700/700 [==============================] - 0s 338us/step - loss: 0.0043 - acc: 1.0000\n",
      "Epoch 41/100\n",
      "700/700 [==============================] - 0s 337us/step - loss: 0.0040 - acc: 1.0000\n",
      "Epoch 42/100\n",
      "700/700 [==============================] - 0s 347us/step - loss: 0.0038 - acc: 1.0000\n",
      "Epoch 43/100\n",
      "700/700 [==============================] - 0s 349us/step - loss: 0.0036 - acc: 1.0000\n",
      "Epoch 44/100\n",
      "700/700 [==============================] - 0s 339us/step - loss: 0.0034 - acc: 1.0000\n",
      "Epoch 45/100\n",
      "700/700 [==============================] - 0s 352us/step - loss: 0.0033 - acc: 1.0000\n",
      "Epoch 46/100\n",
      "700/700 [==============================] - 0s 371us/step - loss: 0.0031 - acc: 1.0000\n",
      "Epoch 47/100\n",
      "700/700 [==============================] - 0s 424us/step - loss: 0.0030 - acc: 1.0000\n",
      "Epoch 48/100\n",
      "700/700 [==============================] - 0s 370us/step - loss: 0.0028 - acc: 1.0000\n",
      "Epoch 49/100\n",
      "700/700 [==============================] - 0s 357us/step - loss: 0.0027 - acc: 1.0000\n",
      "Epoch 50/100\n",
      "700/700 [==============================] - 0s 472us/step - loss: 0.0026 - acc: 1.0000\n",
      "Epoch 51/100\n",
      "700/700 [==============================] - 0s 398us/step - loss: 0.0025 - acc: 1.0000\n",
      "Epoch 52/100\n",
      "700/700 [==============================] - 0s 376us/step - loss: 0.0023 - acc: 1.0000\n",
      "Epoch 53/100\n",
      "700/700 [==============================] - 0s 415us/step - loss: 0.0022 - acc: 1.0000\n",
      "Epoch 54/100\n",
      "700/700 [==============================] - 0s 398us/step - loss: 0.0022 - acc: 1.0000\n",
      "Epoch 55/100\n",
      "700/700 [==============================] - 0s 357us/step - loss: 0.0021 - acc: 1.0000\n",
      "Epoch 56/100\n",
      "700/700 [==============================] - 0s 370us/step - loss: 0.0020 - acc: 1.0000\n",
      "Epoch 57/100\n",
      "700/700 [==============================] - 0s 354us/step - loss: 0.0019 - acc: 1.0000\n",
      "Epoch 58/100\n",
      "700/700 [==============================] - 0s 373us/step - loss: 0.0018 - acc: 1.0000\n",
      "Epoch 59/100\n",
      "700/700 [==============================] - 0s 351us/step - loss: 0.0018 - acc: 1.0000\n",
      "Epoch 60/100\n",
      "700/700 [==============================] - 0s 348us/step - loss: 0.0017 - acc: 1.0000\n",
      "Epoch 61/100\n",
      "700/700 [==============================] - 0s 352us/step - loss: 0.0016 - acc: 1.0000\n",
      "Epoch 62/100\n",
      "700/700 [==============================] - 0s 359us/step - loss: 0.0016 - acc: 1.0000\n",
      "Epoch 63/100\n",
      "700/700 [==============================] - 0s 346us/step - loss: 0.0015 - acc: 1.0000\n",
      "Epoch 64/100\n",
      "700/700 [==============================] - 0s 341us/step - loss: 0.0015 - acc: 1.0000\n",
      "Epoch 65/100\n",
      "700/700 [==============================] - 0s 346us/step - loss: 0.0014 - acc: 1.0000\n",
      "Epoch 66/100\n",
      "700/700 [==============================] - 0s 345us/step - loss: 0.0014 - acc: 1.0000\n",
      "Epoch 67/100\n",
      "700/700 [==============================] - 0s 449us/step - loss: 0.0013 - acc: 1.0000\n",
      "Epoch 68/100\n",
      "700/700 [==============================] - 0s 348us/step - loss: 0.0013 - acc: 1.0000\n",
      "Epoch 69/100\n",
      "700/700 [==============================] - 0s 350us/step - loss: 0.0012 - acc: 1.0000\n",
      "Epoch 70/100\n",
      "700/700 [==============================] - 0s 360us/step - loss: 0.0012 - acc: 1.0000\n",
      "Epoch 71/100\n",
      "700/700 [==============================] - 0s 348us/step - loss: 0.0012 - acc: 1.0000\n",
      "Epoch 72/100\n",
      "700/700 [==============================] - 0s 350us/step - loss: 0.0011 - acc: 1.0000\n",
      "Epoch 73/100\n",
      "700/700 [==============================] - 0s 357us/step - loss: 0.0011 - acc: 1.0000\n",
      "Epoch 74/100\n",
      "700/700 [==============================] - 0s 361us/step - loss: 0.0010 - acc: 1.0000\n",
      "Epoch 75/100\n",
      "700/700 [==============================] - 0s 349us/step - loss: 0.0010 - acc: 1.0000\n",
      "Epoch 76/100\n",
      "700/700 [==============================] - 0s 354us/step - loss: 9.8378e-04 - acc: 1.0000\n",
      "Epoch 77/100\n",
      "700/700 [==============================] - 0s 352us/step - loss: 9.5605e-04 - acc: 1.0000\n",
      "Epoch 78/100\n",
      "700/700 [==============================] - 0s 370us/step - loss: 9.2737e-04 - acc: 1.0000\n",
      "Epoch 79/100\n",
      "700/700 [==============================] - 0s 353us/step - loss: 9.0076e-04 - acc: 1.0000\n",
      "Epoch 80/100\n",
      "700/700 [==============================] - 0s 352us/step - loss: 8.7537e-04 - acc: 1.0000\n",
      "Epoch 81/100\n",
      "700/700 [==============================] - 0s 349us/step - loss: 8.5109e-04 - acc: 1.0000\n",
      "Epoch 82/100\n",
      "700/700 [==============================] - 0s 352us/step - loss: 8.2551e-04 - acc: 1.0000\n",
      "Epoch 83/100\n",
      "700/700 [==============================] - 0s 348us/step - loss: 8.0368e-04 - acc: 1.0000\n",
      "Epoch 84/100\n",
      "700/700 [==============================] - 0s 348us/step - loss: 7.8219e-04 - acc: 1.0000\n",
      "Epoch 85/100\n",
      "700/700 [==============================] - 0s 354us/step - loss: 7.5943e-04 - acc: 1.0000\n",
      "Epoch 86/100\n",
      "700/700 [==============================] - 0s 353us/step - loss: 7.3943e-04 - acc: 1.0000\n",
      "Epoch 87/100\n",
      "700/700 [==============================] - 0s 349us/step - loss: 7.2022e-04 - acc: 1.0000\n",
      "Epoch 88/100\n",
      "700/700 [==============================] - 0s 362us/step - loss: 7.0044e-04 - acc: 1.0000\n",
      "Epoch 89/100\n",
      "700/700 [==============================] - 0s 351us/step - loss: 6.8208e-04 - acc: 1.0000\n",
      "Epoch 90/100\n",
      "700/700 [==============================] - 0s 364us/step - loss: 6.6496e-04 - acc: 1.0000\n",
      "Epoch 91/100\n",
      "700/700 [==============================] - 0s 362us/step - loss: 6.4716e-04 - acc: 1.0000\n",
      "Epoch 92/100\n",
      "700/700 [==============================] - 0s 358us/step - loss: 6.3069e-04 - acc: 1.0000\n",
      "Epoch 93/100\n",
      "700/700 [==============================] - 0s 355us/step - loss: 6.1496e-04 - acc: 1.0000\n",
      "Epoch 94/100\n",
      "700/700 [==============================] - 0s 365us/step - loss: 6.0033e-04 - acc: 1.0000\n",
      "Epoch 95/100\n",
      "700/700 [==============================] - 0s 362us/step - loss: 5.8482e-04 - acc: 1.0000\n",
      "Epoch 96/100\n",
      "700/700 [==============================] - 0s 358us/step - loss: 5.7028e-04 - acc: 1.0000\n",
      "Epoch 97/100\n",
      "700/700 [==============================] - 0s 365us/step - loss: 5.5624e-04 - acc: 1.0000\n",
      "Epoch 98/100\n",
      "700/700 [==============================] - 0s 386us/step - loss: 5.4315e-04 - acc: 1.0000\n",
      "Epoch 99/100\n",
      "700/700 [==============================] - 0s 383us/step - loss: 5.2966e-04 - acc: 1.0000\n",
      "Epoch 100/100\n",
      "700/700 [==============================] - 0s 397us/step - loss: 5.1674e-04 - acc: 1.0000\n",
      "0.7133333086967468\n"
     ]
    },
    {
     "ename": "AttributeError",
     "evalue": "'dict' object has no attribute 'iteritems'",
     "output_type": "error",
     "traceback": [
      "\u001B[0;31m---------------------------------------------------------------------------\u001B[0m",
      "\u001B[0;31mAttributeError\u001B[0m                            Traceback (most recent call last)",
      "\u001B[0;32m<ipython-input-14-0e3de297ffc9>\u001B[0m in \u001B[0;36m<module>\u001B[0;34m\u001B[0m\n\u001B[1;32m     17\u001B[0m \u001B[0mprint\u001B[0m\u001B[0;34m(\u001B[0m\u001B[0maccuracy\u001B[0m\u001B[0;34m)\u001B[0m\u001B[0;34m\u001B[0m\u001B[0;34m\u001B[0m\u001B[0m\n\u001B[1;32m     18\u001B[0m \u001B[0;34m\u001B[0m\u001B[0m\n\u001B[0;32m---> 19\u001B[0;31m \u001B[0msave_embedding\u001B[0m\u001B[0;34m(\u001B[0m\u001B[0;34m\"embedding_labeled.txt\"\u001B[0m\u001B[0;34m,\u001B[0m \u001B[0membedding\u001B[0m\u001B[0;34m.\u001B[0m\u001B[0mget_weights\u001B[0m\u001B[0;34m(\u001B[0m\u001B[0;34m)\u001B[0m\u001B[0;34m[\u001B[0m\u001B[0;36m0\u001B[0m\u001B[0;34m]\u001B[0m\u001B[0;34m,\u001B[0m \u001B[0mvocab\u001B[0m\u001B[0;34m)\u001B[0m\u001B[0;34m\u001B[0m\u001B[0;34m\u001B[0m\u001B[0m\n\u001B[0m\u001B[1;32m     20\u001B[0m \u001B[0;34m\u001B[0m\u001B[0m\n",
      "\u001B[0;32m<ipython-input-4-18e4acdcdd93>\u001B[0m in \u001B[0;36msave_embedding\u001B[0;34m(outputFile, weights, vocabulary)\u001B[0m\n\u001B[1;32m      1\u001B[0m \u001B[0;32mdef\u001B[0m \u001B[0msave_embedding\u001B[0m\u001B[0;34m(\u001B[0m\u001B[0moutputFile\u001B[0m\u001B[0;34m,\u001B[0m \u001B[0mweights\u001B[0m\u001B[0;34m,\u001B[0m \u001B[0mvocabulary\u001B[0m\u001B[0;34m)\u001B[0m\u001B[0;34m:\u001B[0m\u001B[0;34m\u001B[0m\u001B[0;34m\u001B[0m\u001B[0m\n\u001B[0;32m----> 2\u001B[0;31m     \u001B[0mrev\u001B[0m \u001B[0;34m=\u001B[0m \u001B[0;34m{\u001B[0m\u001B[0mv\u001B[0m\u001B[0;34m:\u001B[0m\u001B[0mk\u001B[0m \u001B[0;32mfor\u001B[0m \u001B[0mk\u001B[0m\u001B[0;34m,\u001B[0m \u001B[0mv\u001B[0m \u001B[0;32min\u001B[0m \u001B[0mvocabulary\u001B[0m\u001B[0;34m.\u001B[0m\u001B[0miteritems\u001B[0m\u001B[0;34m(\u001B[0m\u001B[0;34m)\u001B[0m\u001B[0;34m}\u001B[0m\u001B[0;34m\u001B[0m\u001B[0;34m\u001B[0m\u001B[0m\n\u001B[0m\u001B[1;32m      3\u001B[0m     \u001B[0;32mwith\u001B[0m \u001B[0mcodecs\u001B[0m\u001B[0;34m.\u001B[0m\u001B[0mopen\u001B[0m\u001B[0;34m(\u001B[0m\u001B[0moutputFile\u001B[0m\u001B[0;34m,\u001B[0m \u001B[0;34m\"w\"\u001B[0m\u001B[0;34m)\u001B[0m \u001B[0;32mas\u001B[0m \u001B[0mf\u001B[0m\u001B[0;34m:\u001B[0m\u001B[0;34m\u001B[0m\u001B[0;34m\u001B[0m\u001B[0m\n\u001B[1;32m      4\u001B[0m         \u001B[0mf\u001B[0m\u001B[0;34m.\u001B[0m\u001B[0mwrite\u001B[0m\u001B[0;34m(\u001B[0m\u001B[0mstr\u001B[0m\u001B[0;34m(\u001B[0m\u001B[0mlen\u001B[0m\u001B[0;34m(\u001B[0m\u001B[0mvocabulary\u001B[0m\u001B[0;34m)\u001B[0m\u001B[0;34m)\u001B[0m \u001B[0;34m+\u001B[0m \u001B[0;34m\" \"\u001B[0m \u001B[0;34m+\u001B[0m \u001B[0mstr\u001B[0m\u001B[0;34m(\u001B[0m\u001B[0mweights\u001B[0m\u001B[0;34m.\u001B[0m\u001B[0mshape\u001B[0m\u001B[0;34m[\u001B[0m\u001B[0;36m1\u001B[0m\u001B[0;34m]\u001B[0m\u001B[0;34m)\u001B[0m \u001B[0;34m+\u001B[0m \u001B[0;34m\"\\n\"\u001B[0m\u001B[0;34m)\u001B[0m\u001B[0;34m\u001B[0m\u001B[0;34m\u001B[0m\u001B[0m\n\u001B[1;32m      5\u001B[0m         \u001B[0;32mfor\u001B[0m \u001B[0mindex\u001B[0m \u001B[0;32min\u001B[0m \u001B[0msorted\u001B[0m\u001B[0;34m(\u001B[0m\u001B[0mrev\u001B[0m\u001B[0;34m.\u001B[0m\u001B[0miterkeys\u001B[0m\u001B[0;34m(\u001B[0m\u001B[0;34m)\u001B[0m\u001B[0;34m)\u001B[0m\u001B[0;34m:\u001B[0m\u001B[0;34m\u001B[0m\u001B[0;34m\u001B[0m\u001B[0m\n",
      "\u001B[0;31mAttributeError\u001B[0m: 'dict' object has no attribute 'iteritems'"
     ]
    }
   ],
   "source": [
    "\n",
    "train_dat_path = '../Data/RestaurantReviews_training.tsv'\n",
    "test_dat_path = '../Data/RestaurantReviews_test.tsv'\n",
    "\n",
    "max_len=100\n",
    "data,labels,vocab=process_training_data(train_dat_path, max_len)\n",
    "test_data,test_labels=process_test_data(test_dat_path,vocab,max_len)\n",
    "\n",
    "model = Sequential()\n",
    "embedding=Embedding(len(vocab), 100, input_length=max_len)\n",
    "model.add(embedding)\n",
    "model.add(Flatten())\n",
    "model.add(Dense(1,activation=\"sigmoid\"))\n",
    "model.compile(loss='binary_crossentropy', optimizer='adam',metrics=['acc'])\n",
    "model.fit(data,labels,epochs=100, verbose=1)\n",
    "\n",
    "loss, accuracy = model.evaluate(test_data, test_labels, verbose=0)\n",
    "print(accuracy)\n",
    "\n",
    "save_embedding(\"embedding_labeled.txt\", embedding.get_weights()[0], vocab)\n",
    "\n"
   ],
   "metadata": {
    "collapsed": false,
    "pycharm": {
     "name": "#%%\n"
    }
   }
  },
  {
   "cell_type": "markdown",
   "source": [
    "Now that we have learned embeddings for each word in the vocabulary, we can look at nearest neighbors"
   ],
   "metadata": {
    "collapsed": false,
    "pycharm": {
     "name": "#%% md\n"
    }
   }
  },
  {
   "cell_type": "code",
   "execution_count": null,
   "outputs": [],
   "source": [
    "from gensim.models import KeyedVectors # gensime is a topic modeling package\n",
    "import gensim.models\n",
    "import os\n",
    "\n",
    "w2v = gensim.models.KeyedVectors.load_word2vec_format('embedding_labeled.txt', binary=False, unicode_errors='ignore')\n",
    "\n",
    "for w in  sorted(w2v.wv.vocab):\n",
    "    print(w,w2v.most_similar(w,topn=3))"
   ],
   "metadata": {
    "collapsed": false,
    "pycharm": {
     "name": "#%%\n"
    }
   }
  },
  {
   "cell_type": "markdown",
   "source": [
    "## 3.2 From Words to Vectors: word2vec"
   ],
   "metadata": {
    "collapsed": false,
    "pycharm": {
     "name": "#%% md\n"
    }
   }
  },
  {
   "cell_type": "code",
   "execution_count": null,
   "outputs": [],
   "source": [
    "# These are my Lovely Additions I really know Deep Learning and NLP and Github. Please hire/save me"
   ],
   "metadata": {
    "collapsed": false,
    "pycharm": {
     "name": "#%%\n",
     "is_executing": true
    }
   }
  },
  {
   "cell_type": "markdown",
   "source": [
    "## 3.3 From Documents to Vector: doc2vec"
   ],
   "metadata": {
    "collapsed": false,
    "pycharm": {
     "name": "#%% md\n"
    }
   }
  }
 ],
 "metadata": {
  "kernelspec": {
   "name": "pycharm-f7c24000",
   "language": "python",
   "display_name": "PyCharm (mTurkBx)"
  },
  "language_info": {
   "codemirror_mode": {
    "name": "ipython",
    "version": 2
   },
   "file_extension": ".py",
   "mimetype": "text/x-python",
   "name": "python",
   "nbconvert_exporter": "python",
   "pygments_lexer": "ipython2",
   "version": "2.7.6"
  }
 },
 "nbformat": 4,
 "nbformat_minor": 0
}