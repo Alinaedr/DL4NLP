{
 "cells": [
  {
   "cell_type": "markdown",
   "metadata": {
    "pycharm": {
     "name": "#%% md\n"
    }
   },
   "source": [
    "# Chapter 3: Text Embeddings"
   ]
  },
  {
   "cell_type": "markdown",
   "metadata": {
    "pycharm": {
     "name": "#%% md\n"
    }
   },
   "source": [
    "## 3.1 Embeddings\n",
    "\n",
    "Embeddings are procedures that turn input data into vectors.  Recall from chapter 1 that there are 2 kinds:\n",
    "* Representational embeddings are designed by hand and thus human-interpretable.\n",
    "* Operational embeddings are learned from data"
   ]
  },
  {
   "cell_type": "code",
   "execution_count": 1,
   "metadata": {
    "pycharm": {
     "name": "#%%\n"
    }
   },
   "outputs": [
    {
     "name": "stderr",
     "output_type": "stream",
     "text": [
      "Using TensorFlow backend.\n",
      "/Users/f005dm6/.conda/envs/DL4NLP/lib/python3.7/site-packages/tensorflow/python/framework/dtypes.py:516: FutureWarning: Passing (type, 1) or '1type' as a synonym of type is deprecated; in a future version of numpy, it will be understood as (type, (1,)) / '(1,)type'.\n",
      "  _np_qint8 = np.dtype([(\"qint8\", np.int8, 1)])\n",
      "/Users/f005dm6/.conda/envs/DL4NLP/lib/python3.7/site-packages/tensorflow/python/framework/dtypes.py:517: FutureWarning: Passing (type, 1) or '1type' as a synonym of type is deprecated; in a future version of numpy, it will be understood as (type, (1,)) / '(1,)type'.\n",
      "  _np_quint8 = np.dtype([(\"quint8\", np.uint8, 1)])\n",
      "/Users/f005dm6/.conda/envs/DL4NLP/lib/python3.7/site-packages/tensorflow/python/framework/dtypes.py:518: FutureWarning: Passing (type, 1) or '1type' as a synonym of type is deprecated; in a future version of numpy, it will be understood as (type, (1,)) / '(1,)type'.\n",
      "  _np_qint16 = np.dtype([(\"qint16\", np.int16, 1)])\n",
      "/Users/f005dm6/.conda/envs/DL4NLP/lib/python3.7/site-packages/tensorflow/python/framework/dtypes.py:519: FutureWarning: Passing (type, 1) or '1type' as a synonym of type is deprecated; in a future version of numpy, it will be understood as (type, (1,)) / '(1,)type'.\n",
      "  _np_quint16 = np.dtype([(\"quint16\", np.uint16, 1)])\n",
      "/Users/f005dm6/.conda/envs/DL4NLP/lib/python3.7/site-packages/tensorflow/python/framework/dtypes.py:520: FutureWarning: Passing (type, 1) or '1type' as a synonym of type is deprecated; in a future version of numpy, it will be understood as (type, (1,)) / '(1,)type'.\n",
      "  _np_qint32 = np.dtype([(\"qint32\", np.int32, 1)])\n",
      "/Users/f005dm6/.conda/envs/DL4NLP/lib/python3.7/site-packages/tensorflow/python/framework/dtypes.py:525: FutureWarning: Passing (type, 1) or '1type' as a synonym of type is deprecated; in a future version of numpy, it will be understood as (type, (1,)) / '(1,)type'.\n",
      "  np_resource = np.dtype([(\"resource\", np.ubyte, 1)])\n",
      "/Users/f005dm6/.conda/envs/DL4NLP/lib/python3.7/site-packages/tensorboard/compat/tensorflow_stub/dtypes.py:541: FutureWarning: Passing (type, 1) or '1type' as a synonym of type is deprecated; in a future version of numpy, it will be understood as (type, (1,)) / '(1,)type'.\n",
      "  _np_qint8 = np.dtype([(\"qint8\", np.int8, 1)])\n",
      "/Users/f005dm6/.conda/envs/DL4NLP/lib/python3.7/site-packages/tensorboard/compat/tensorflow_stub/dtypes.py:542: FutureWarning: Passing (type, 1) or '1type' as a synonym of type is deprecated; in a future version of numpy, it will be understood as (type, (1,)) / '(1,)type'.\n",
      "  _np_quint8 = np.dtype([(\"quint8\", np.uint8, 1)])\n",
      "/Users/f005dm6/.conda/envs/DL4NLP/lib/python3.7/site-packages/tensorboard/compat/tensorflow_stub/dtypes.py:543: FutureWarning: Passing (type, 1) or '1type' as a synonym of type is deprecated; in a future version of numpy, it will be understood as (type, (1,)) / '(1,)type'.\n",
      "  _np_qint16 = np.dtype([(\"qint16\", np.int16, 1)])\n",
      "/Users/f005dm6/.conda/envs/DL4NLP/lib/python3.7/site-packages/tensorboard/compat/tensorflow_stub/dtypes.py:544: FutureWarning: Passing (type, 1) or '1type' as a synonym of type is deprecated; in a future version of numpy, it will be understood as (type, (1,)) / '(1,)type'.\n",
      "  _np_quint16 = np.dtype([(\"quint16\", np.uint16, 1)])\n",
      "/Users/f005dm6/.conda/envs/DL4NLP/lib/python3.7/site-packages/tensorboard/compat/tensorflow_stub/dtypes.py:545: FutureWarning: Passing (type, 1) or '1type' as a synonym of type is deprecated; in a future version of numpy, it will be understood as (type, (1,)) / '(1,)type'.\n",
      "  _np_qint32 = np.dtype([(\"qint32\", np.int32, 1)])\n",
      "/Users/f005dm6/.conda/envs/DL4NLP/lib/python3.7/site-packages/tensorboard/compat/tensorflow_stub/dtypes.py:550: FutureWarning: Passing (type, 1) or '1type' as a synonym of type is deprecated; in a future version of numpy, it will be understood as (type, (1,)) / '(1,)type'.\n",
      "  np_resource = np.dtype([(\"resource\", np.ubyte, 1)])\n",
      "/Users/f005dm6/.conda/envs/DL4NLP/lib/python3.7/site-packages/sklearn/feature_extraction/image.py:167: DeprecationWarning: `np.int` is a deprecated alias for the builtin `int`. To silence this warning, use `int` by itself. Doing this will not modify any behavior and is safe. When replacing `np.int`, you may wish to use e.g. `np.int64` or `np.int32` to specify the precision. If you wish to review your current use, check the release note link for additional information.\n",
      "Deprecated in NumPy 1.20; for more details and guidance: https://numpy.org/devdocs/release/1.20.0-notes.html#deprecations\n",
      "  dtype=np.int):\n",
      "/Users/f005dm6/.conda/envs/DL4NLP/lib/python3.7/site-packages/sklearn/linear_model/least_angle.py:30: DeprecationWarning: `np.float` is a deprecated alias for the builtin `float`. To silence this warning, use `float` by itself. Doing this will not modify any behavior and is safe. If you specifically wanted the numpy scalar type, use `np.float64` here.\n",
      "Deprecated in NumPy 1.20; for more details and guidance: https://numpy.org/devdocs/release/1.20.0-notes.html#deprecations\n",
      "  method='lar', copy_X=True, eps=np.finfo(np.float).eps,\n",
      "/Users/f005dm6/.conda/envs/DL4NLP/lib/python3.7/site-packages/sklearn/linear_model/least_angle.py:167: DeprecationWarning: `np.float` is a deprecated alias for the builtin `float`. To silence this warning, use `float` by itself. Doing this will not modify any behavior and is safe. If you specifically wanted the numpy scalar type, use `np.float64` here.\n",
      "Deprecated in NumPy 1.20; for more details and guidance: https://numpy.org/devdocs/release/1.20.0-notes.html#deprecations\n",
      "  method='lar', copy_X=True, eps=np.finfo(np.float).eps,\n",
      "/Users/f005dm6/.conda/envs/DL4NLP/lib/python3.7/site-packages/sklearn/linear_model/least_angle.py:284: DeprecationWarning: `np.float` is a deprecated alias for the builtin `float`. To silence this warning, use `float` by itself. Doing this will not modify any behavior and is safe. If you specifically wanted the numpy scalar type, use `np.float64` here.\n",
      "Deprecated in NumPy 1.20; for more details and guidance: https://numpy.org/devdocs/release/1.20.0-notes.html#deprecations\n",
      "  eps=np.finfo(np.float).eps, copy_Gram=True, verbose=0,\n",
      "/Users/f005dm6/.conda/envs/DL4NLP/lib/python3.7/site-packages/sklearn/linear_model/least_angle.py:862: DeprecationWarning: `np.float` is a deprecated alias for the builtin `float`. To silence this warning, use `float` by itself. Doing this will not modify any behavior and is safe. If you specifically wanted the numpy scalar type, use `np.float64` here.\n",
      "Deprecated in NumPy 1.20; for more details and guidance: https://numpy.org/devdocs/release/1.20.0-notes.html#deprecations\n",
      "  eps=np.finfo(np.float).eps, copy_X=True, fit_path=True,\n",
      "/Users/f005dm6/.conda/envs/DL4NLP/lib/python3.7/site-packages/sklearn/linear_model/least_angle.py:1101: DeprecationWarning: `np.float` is a deprecated alias for the builtin `float`. To silence this warning, use `float` by itself. Doing this will not modify any behavior and is safe. If you specifically wanted the numpy scalar type, use `np.float64` here.\n",
      "Deprecated in NumPy 1.20; for more details and guidance: https://numpy.org/devdocs/release/1.20.0-notes.html#deprecations\n",
      "  eps=np.finfo(np.float).eps, copy_X=True, fit_path=True,\n",
      "/Users/f005dm6/.conda/envs/DL4NLP/lib/python3.7/site-packages/sklearn/linear_model/least_angle.py:1127: DeprecationWarning: `np.float` is a deprecated alias for the builtin `float`. To silence this warning, use `float` by itself. Doing this will not modify any behavior and is safe. If you specifically wanted the numpy scalar type, use `np.float64` here.\n",
      "Deprecated in NumPy 1.20; for more details and guidance: https://numpy.org/devdocs/release/1.20.0-notes.html#deprecations\n",
      "  eps=np.finfo(np.float).eps, positive=False):\n",
      "/Users/f005dm6/.conda/envs/DL4NLP/lib/python3.7/site-packages/sklearn/linear_model/least_angle.py:1362: DeprecationWarning: `np.float` is a deprecated alias for the builtin `float`. To silence this warning, use `float` by itself. Doing this will not modify any behavior and is safe. If you specifically wanted the numpy scalar type, use `np.float64` here.\n",
      "Deprecated in NumPy 1.20; for more details and guidance: https://numpy.org/devdocs/release/1.20.0-notes.html#deprecations\n",
      "  max_n_alphas=1000, n_jobs=None, eps=np.finfo(np.float).eps,\n",
      "/Users/f005dm6/.conda/envs/DL4NLP/lib/python3.7/site-packages/sklearn/linear_model/least_angle.py:1602: DeprecationWarning: `np.float` is a deprecated alias for the builtin `float`. To silence this warning, use `float` by itself. Doing this will not modify any behavior and is safe. If you specifically wanted the numpy scalar type, use `np.float64` here.\n",
      "Deprecated in NumPy 1.20; for more details and guidance: https://numpy.org/devdocs/release/1.20.0-notes.html#deprecations\n",
      "  max_n_alphas=1000, n_jobs=None, eps=np.finfo(np.float).eps,\n",
      "/Users/f005dm6/.conda/envs/DL4NLP/lib/python3.7/site-packages/sklearn/linear_model/least_angle.py:1738: DeprecationWarning: `np.float` is a deprecated alias for the builtin `float`. To silence this warning, use `float` by itself. Doing this will not modify any behavior and is safe. If you specifically wanted the numpy scalar type, use `np.float64` here.\n",
      "Deprecated in NumPy 1.20; for more details and guidance: https://numpy.org/devdocs/release/1.20.0-notes.html#deprecations\n",
      "  eps=np.finfo(np.float).eps, copy_X=True, positive=False):\n",
      "/Users/f005dm6/.conda/envs/DL4NLP/lib/python3.7/site-packages/sklearn/decomposition/online_lda.py:29: DeprecationWarning: `np.float` is a deprecated alias for the builtin `float`. To silence this warning, use `float` by itself. Doing this will not modify any behavior and is safe. If you specifically wanted the numpy scalar type, use `np.float64` here.\n",
      "Deprecated in NumPy 1.20; for more details and guidance: https://numpy.org/devdocs/release/1.20.0-notes.html#deprecations\n",
      "  EPS = np.finfo(np.float).eps\n"
     ]
    }
   ],
   "source": [
    "import numpy as np\n",
    "from keras.models import Sequential\n",
    "from keras.layers import Embedding, Flatten, Dense\n",
    "from sklearn.feature_extraction.text import CountVectorizer\n",
    "from keras.preprocessing.sequence import pad_sequences\n",
    "from sklearn.manifold import TSNE\n",
    "import matplotlib.pyplot as plt\n",
    "import codecs\n",
    "import re"
   ]
  },
  {
   "cell_type": "markdown",
   "metadata": {
    "pycharm": {
     "name": "#%% md\n"
    }
   },
   "source": [
    "### 3.1.1 Embed by Hand: Representational Embeddings\n",
    "**one-hot embeddings**\n",
    "Every element of this vector embedding is zero, except at a single meaningful index.\n",
    "<img src=\"images/oneHot.png/\">\n",
    "\n",
    "Given the embedding above:\n",
    "The word _cat_ is represented by the vector $ [0, 1, 0, 0, 0, 0 ]$\n",
    "The word _sat_ is represented by the vector $ [0, 0, 1, 0,0, 0, ]$\n"
   ]
  },
  {
   "cell_type": "code",
   "execution_count": 2,
   "metadata": {
    "pycharm": {
     "name": "#%%\n"
    }
   },
   "outputs": [
    {
     "data": {
      "text/plain": "array([0, 0, 0, 0, 0, 0, 1])"
     },
     "execution_count": 2,
     "metadata": {},
     "output_type": "execute_result"
    }
   ],
   "source": [
    "def one_hot(lexicon, word):\n",
    "    '''\n",
    "\n",
    "\n",
    "    :param lexicon: A sentence string\n",
    "    :param word: a string\n",
    "    :return: np.array one-hot vector representing the word from the given lexicon\n",
    "    '''\n",
    "    lexicon = np.array(lexicon.split(' ')) # split sentence into words\n",
    "    return np.multiply(lexicon == word, 1) # multiply turns True/False into integers 1, 0\n",
    "\n",
    "lex = 'want to go swim at the beach'\n",
    "\n",
    "one_hot(lex, 'beach' )"
   ]
  },
  {
   "cell_type": "markdown",
   "metadata": {
    "pycharm": {
     "name": "#%% md\n"
    }
   },
   "source": [
    "Ideally, words that are related to each other will generally lie close to each other in vector space, but note below that there spatial distance does not make sense from a linguistic perspective since different one-hot vectors only differ by just one bit.\n",
    "As such one-hot embeddings are used when distance-based similarity does not come into play."
   ]
  },
  {
   "cell_type": "code",
   "execution_count": 3,
   "metadata": {
    "pycharm": {
     "name": "#%%\n"
    }
   },
   "outputs": [
    {
     "name": "stdout",
     "output_type": "stream",
     "text": [
      "distance between \"beach\" and \"swim\": 1.4142135623730951\n",
      "distance between \"beach\" and \"want\": 1.4142135623730951\n"
     ]
    }
   ],
   "source": [
    "a = one_hot(lex, 'beach')\n",
    "b = one_hot(lex, 'swim')\n",
    "c = one_hot(lex, 'want')\n",
    "print(f'distance between \\\"beach\\\" and \\\"swim\\\": {np.linalg.norm(a - b)}')\n",
    "print(f'distance between \\\"beach\\\" and \\\"want\\\": {np.linalg.norm(a - c)}')\n"
   ]
  },
  {
   "cell_type": "markdown",
   "metadata": {
    "pycharm": {
     "name": "#%% md\n"
    }
   },
   "source": [
    "### 3.1.1 Learning to Embed: Procedural embeddings\n",
    "Keras Embeddings layers deploy a matrix of weights that are optimized (like a mini single layer network) using a loss function.\n",
    "The implicit, default loss function is one that maximizes the distinctiveness of vector representations.\n",
    "\n",
    "The embedding below generates, for every array of 10 integers (a row in the input matrix), a 10x8 matrix consisting of 8-dimensional values, one for every integer in the integer array.\n"
   ]
  },
  {
   "cell_type": "code",
   "execution_count": 4,
   "metadata": {
    "pycharm": {
     "name": "#%%\n"
    }
   },
   "outputs": [
    {
     "name": "stdout",
     "output_type": "stream",
     "text": [
      "WARNING:tensorflow:From /Users/f005dm6/.conda/envs/DL4NLP/lib/python3.7/site-packages/keras/backend/tensorflow_backend.py:422: The name tf.global_variables is deprecated. Please use tf.compat.v1.global_variables instead.\n",
      "\n",
      "input dim: (10, 10)\n",
      "output dim: (10, 10, 8)\n"
     ]
    },
    {
     "name": "stderr",
     "output_type": "stream",
     "text": [
      "2022-07-20 15:56:35.744723: I tensorflow/core/platform/cpu_feature_guard.cc:145] This TensorFlow binary is optimized with Intel(R) MKL-DNN to use the following CPU instructions in performance critical operations:  SSE4.1 SSE4.2\n",
      "To enable them in non-MKL-DNN operations, rebuild TensorFlow with the appropriate compiler flags.\n",
      "2022-07-20 15:56:35.745676: I tensorflow/core/common_runtime/process_util.cc:115] Creating new thread pool with default inter op setting: 10. Tune using inter_op_parallelism_threads for best performance.\n"
     ]
    }
   ],
   "source": [
    "\n",
    "model = Sequential() # create the model container\n",
    "model.add(Embedding(input_dim=100, output_dim=8, input_length=10))   # add an embedding for 100 integers, arranged in blocks of 10\n",
    "input_array = np.random.randint(100, size=(10, 10)) # a random input\n",
    "model.compile('rmsprop', 'mse') # “compile the model, setting the loss function to 'mean squared error', and using the rmsprop optimizer. ”\n",
    "output_array = model.predict(input_array) # generate embeddings\n",
    "print(f'input dim: {input_array.shape}')\n",
    "print(f'output dim: {output_array.shape}')"
   ]
  },
  {
   "cell_type": "markdown",
   "metadata": {
    "pycharm": {
     "name": "#%% md\n"
    }
   },
   "source": [
    "Applied to text, we can represent a set of documents as a vector of integers and create a standard embedding of these documents in a similar way"
   ]
  },
  {
   "cell_type": "code",
   "execution_count": 5,
   "metadata": {
    "pycharm": {
     "name": "#%%\n"
    }
   },
   "outputs": [
    {
     "name": "stdout",
     "output_type": "stream",
     "text": [
      "{'chuck': 21, 'berry': 11, 'rolled': 74, 'over': 67, 'everyone': 27, 'who': 97, 'came': 15, 'before': 10, 'him': 41, 'and': 5, 'turned': 90, 'up': 92, 'after': 1, 'we': 96, 'll': 53, 'miss': 57, 'you': 102, 'help': 38, 'protect': 72, 'the': 85, 'progress': 71, 've': 93, 'made': 54, 'in': 43, 'helping': 39, 'millions': 56, 'of': 63, 'americans': 4, 'get': 32, 'covered': 24, 'let': 52, 'leave': 51, 'our': 66, 'children': 20, 'grandchildren': 34, 'planet': 70, 'that': 84, 'healthier': 37, 'than': 83, 'one': 65, 'have': 36, 'today': 88, 'american': 3, 'people': 69, 'are': 6, 'waiting': 94, 'for': 29, 'senate': 75, 'leaders': 50, 'to': 87, 'do': 25, 'their': 86, 'jobs': 46, 'must': 58, 'take': 82, 'bold': 12, 'steps': 81, 'now': 62, 'climate': 22, 'change': 18, 'is': 44, 'already': 2, 'impacting': 42, 'don': 26, 'forget': 30, 'watch': 95, 'larry': 48, 'king': 47, 'tonight': 89, 'ivanka': 45, 'on': 64, 'twitter': 91, 'can': 16, 'follow': 28, 'her': 40, 'last': 49, 'night': 61, 'melania': 55, 'attended': 8, 'skating': 79, 'with': 99, 'stars': 80, 'gala': 31, 'at': 7, 'wollman': 100, 'rink': 73, 'central': 17, 'park': 68, 'ability': 0, 'work': 101, 'should': 77, 'but': 14, 'government': 33, 'happy': 35, 'send': 76, 'checks': 19, 'will': 98, 'be': 9, 'signing': 78, 'copies': 23, 'my': 59, 'new': 60, 'book': 13}\n"
     ]
    }
   ],
   "source": [
    "\n",
    "docs=[\"Chuck Berry rolled over everyone who came before him ? and turned up everyone who came after. We'll miss you\",\n",
    "      \"Help protect the progress we've made in helping millions of Americans get covered.\",\n",
    "      \"Let's leave our children and grandchildren a planet that's healthier than the one we have today.\",\n",
    "      \"The American people are waiting for Senate leaders to do their jobs.\",\n",
    "      \"We must take bold steps now ? climate change is already impacting millions of people.\",\n",
    "      \"Don't forget to watch Larry King tonight\",\n",
    "      \"Ivanka is now on Twitter - You can follow her\",\n",
    "      \"Last night Melania and I attended the Skating with the Stars Gala at Wollman Rink in Central Park\",\n",
    "      \"People who have the ability to work should. But with the government happy to send checks\",\n",
    "      \"I will be signing copies of my new book\"]\n",
    "\n",
    "docs=[d.lower() for d in docs] # make everything lower case\n",
    "\n",
    "count_vect = CountVectorizer().fit(docs) # maps every word to a unique arbitrary integer from the vocabulary\n",
    "tokenizer = count_vect.build_tokenizer() # initialize a tokenizer\n",
    "\n",
    "print(count_vect.vocabulary_)\n",
    "\n",
    "\n",
    "\n",
    "input_array=[]\n",
    "for doc in docs:\n",
    "    x=[]\n",
    "    for token in tokenizer(doc): #tokenizer(doc) just splits the string on white spaces to get a list of word strings\n",
    "        x.append(count_vect.vocabulary_.get(token)) # get the integer from the vocabulary assigned to each word in the doc\n",
    "    input_array.append(x)\n",
    "\n",
    "\n",
    "max_len=max([len(d) for d in input_array]) # max length of document\n",
    "input_array=pad_sequences(input_array, maxlen=max_len, padding='post') # pad with zeros so all vectors are the same length\n"
   ]
  },
  {
   "cell_type": "markdown",
   "metadata": {
    "pycharm": {
     "name": "#%% md\n"
    }
   },
   "source": [
    "We can visualize the vector embeddings with the well-known visualization algorithm T-SNE (MaatenHinton2008). This algorithm maps high-dimensional vectors to lower-dimensional planes."
   ]
  },
  {
   "cell_type": "code",
   "execution_count": 6,
   "metadata": {
    "pycharm": {
     "name": "#%%\n"
    }
   },
   "outputs": [
    {
     "name": "stderr",
     "output_type": "stream",
     "text": [
      "/Users/f005dm6/.conda/envs/DL4NLP/lib/python3.7/site-packages/sklearn/manifold/t_sne.py:344: DeprecationWarning: `np.float` is a deprecated alias for the builtin `float`. To silence this warning, use `float` by itself. Doing this will not modify any behavior and is safe. If you specifically wanted the numpy scalar type, use `np.float64` here.\n",
      "Deprecated in NumPy 1.20; for more details and guidance: https://numpy.org/devdocs/release/1.20.0-notes.html#deprecations\n",
      "  error = np.finfo(np.float).max\n",
      "/Users/f005dm6/.conda/envs/DL4NLP/lib/python3.7/site-packages/sklearn/manifold/t_sne.py:345: DeprecationWarning: `np.float` is a deprecated alias for the builtin `float`. To silence this warning, use `float` by itself. Doing this will not modify any behavior and is safe. If you specifically wanted the numpy scalar type, use `np.float64` here.\n",
      "Deprecated in NumPy 1.20; for more details and guidance: https://numpy.org/devdocs/release/1.20.0-notes.html#deprecations\n",
      "  best_error = np.finfo(np.float).max\n",
      "/Users/f005dm6/.conda/envs/DL4NLP/lib/python3.7/site-packages/sklearn/manifold/t_sne.py:344: DeprecationWarning: `np.float` is a deprecated alias for the builtin `float`. To silence this warning, use `float` by itself. Doing this will not modify any behavior and is safe. If you specifically wanted the numpy scalar type, use `np.float64` here.\n",
      "Deprecated in NumPy 1.20; for more details and guidance: https://numpy.org/devdocs/release/1.20.0-notes.html#deprecations\n",
      "  error = np.finfo(np.float).max\n",
      "/Users/f005dm6/.conda/envs/DL4NLP/lib/python3.7/site-packages/sklearn/manifold/t_sne.py:345: DeprecationWarning: `np.float` is a deprecated alias for the builtin `float`. To silence this warning, use `float` by itself. Doing this will not modify any behavior and is safe. If you specifically wanted the numpy scalar type, use `np.float64` here.\n",
      "Deprecated in NumPy 1.20; for more details and guidance: https://numpy.org/devdocs/release/1.20.0-notes.html#deprecations\n",
      "  best_error = np.finfo(np.float).max\n"
     ]
    },
    {
     "data": {
      "text/plain": "<Figure size 576x576 with 1 Axes>",
      "image/png": "[encoded data removed]"
     },
     "metadata": {
      "needs_background": "light"
     },
     "output_type": "display_data"
    }
   ],
   "source": [
    "def tsne_plot(model,max_words=200):\n",
    "    labels = []\n",
    "    tokens = []\n",
    "\n",
    "    n=0\n",
    "    for word in model:\n",
    "        if n<max_words:\n",
    "            tokens.append(model[word])\n",
    "            labels.append(word)\n",
    "            n+=1\n",
    "\n",
    "\n",
    "    tsne_model = TSNE(perplexity=40, n_components=2, init='pca', n_iter=10000, random_state=23)\n",
    "    new_values = tsne_model.fit_transform(tokens)\n",
    "\n",
    "    x = []\n",
    "    y = []\n",
    "    for value in new_values:\n",
    "        x.append(value[0])\n",
    "        y.append(value[1])\n",
    "\n",
    "    plt.figure(figsize=(8, 8))\n",
    "    for i in range(len(x)):\n",
    "        plt.scatter(x[i],y[i])\n",
    "        plt.annotate(labels[i],\n",
    "                     xy=(x[i], y[i]),\n",
    "                     xytext=(5, 2),\n",
    "                     textcoords='offset points',\n",
    "                     ha='right',\n",
    "                     va='bottom')\n",
    "    plt.show()\n",
    "\n",
    "model = Sequential()\n",
    "model.add(Embedding(200, 8, input_length=20))\n",
    "#input_array = np.random.randint(100, size=(10, 10))\n",
    "model.compile('rmsprop', 'mse')\n",
    "output_array = model.predict(input_array)\n",
    "\n",
    "M={}\n",
    "for i in range(len(input_array)):\n",
    "    for j in range(len(input_array[i])):\n",
    "        M[input_array[i][j]]=output_array[i][j]\n",
    "\n",
    "tsne_plot(M)"
   ]
  },
  {
   "cell_type": "markdown",
   "metadata": {
    "pycharm": {
     "name": "#%% md\n"
    }
   },
   "source": [
    " - so a lexicon is represented by a vocabulary that maps words to integers.\n",
    " - a single word is represented by an _integer_.\n",
    " - each _integer_ is then represented by the output of `model.predict()`, which gives an 8-dimensional array\n",
    "So each word is represented by this 8-dim vector in model output space.\n",
    "\n",
    "Note that spatial distance in the plot above does not reflect any semantic differences because our choice of optimizer `(rmsprop)` for the Embed layer didn't account for this.\n",
    "\n",
    "**Training a word embedding**\n",
    "\n",
    "with training of the Embedding layer, words should be vectorized such that _they contribute maximally to discerning documents with positive sentiment from those with negative sentiment._\n",
    "In other words, the word embeddings that are learned are optimized in the context of a specific task.\n",
    "\n",
    "**Optimization of a Keras embedding.**\n",
    "\n",
    "A vector of integers (representing a set of documents) where each integer corresponds to a word string. Similar to the case above with random integers, but now we can add labels to denote positive and negative sentiment.\n",
    "We now train a word embedding constrained by a loss function that aims for _maximum separation of the documents_.\n",
    "Note that the difference between the cell above and a trained embedding layer is the addition of a loss function that aims to maximize discriminability of the documents."
   ]
  },
  {
   "cell_type": "code",
   "execution_count": 7,
   "metadata": {
    "pycharm": {
     "name": "#%%\n"
    }
   },
   "outputs": [
    {
     "name": "stdout",
     "output_type": "stream",
     "text": [
      "we\n"
     ]
    }
   ],
   "source": [
    "count_vect.vocabulary_\n",
    "print(list(count_vect.vocabulary_.keys())[list(count_vect.vocabulary_.values()).index(96)])\n"
   ]
  },
  {
   "cell_type": "code",
   "execution_count": 9,
   "metadata": {
    "pycharm": {
     "name": "#%%\n"
    }
   },
   "outputs": [],
   "source": [
    "'''\n",
    "import pandas as pd\n",
    "data = pd.read_csv('../Data/Restaurant_Reviews.tsv', sep='\\t',  encoding = \"ISO-8859-1\")\n",
    "data.iloc[:700].to_csv('../Data/RestaurantReviews_training.tsv', sep='\\t', index=False, header=False)\n",
    "data.iloc[700:].to_csv('../Data/RestaurantReviews_test.tsv', sep='\\t', index=False, header=False)\n",
    "'''"
   ]
  },
  {
   "cell_type": "code",
   "execution_count": 8,
   "metadata": {
    "pycharm": {
     "name": "#%%\n"
    }
   },
   "outputs": [],
   "source": [
    "\n",
    "def save_embedding(outputFile, weights, vocabulary):\n",
    "    '''\n",
    "    This function saves a text file containing each word in the vocabulary and the embedding weights that were learned in the model.\n",
    "\n",
    "    :param outputFile:\n",
    "    :param weights:\n",
    "    :param vocabulary:\n",
    "    :return:\n",
    "    '''\n",
    "    rev = {v:k for k, v in vocabulary.items()} # reverses the dictionary from words --> integer to go from integer --> words\n",
    "    with codecs.open(outputFile, \"w\") as f:\n",
    "        f.write(str(len(vocabulary)) + \" \" + str(weights.shape[1]) + \"\\n\")\n",
    "        for index in sorted(rev.keys()):\n",
    "            word=rev[index]\n",
    "            f.write(word + \" \")\n",
    "            for i in range(len(weights[index])):\n",
    "                f.write(str(weights[index][i]) + \" \")\n",
    "            f.write(\"\\n\")\n",
    "\n",
    "\n",
    "def getLines(f):\n",
    "    ''' Given a path to a .tsv file, this function returns a list of strings corresponding to each row of the .tsv file.\n",
    "    Columns are joined together in a single string per row separated by \\t (denoting a tab) '''\n",
    "    lines = [line.rstrip() for line in open(f)]\n",
    "    return lines\n",
    "\n",
    "\n",
    "\n",
    "def create_vocabulary(vocabulary, sentences):\n",
    "    '''\n",
    "\n",
    "    :param vocabulary: an empty dictionary\n",
    "    :param sentences: a list of strings representing the rows of the .tsv file containing restaurant review data\n",
    "    :return: a dictionary mapping every unique word in the sentences list, to an integer\n",
    "    '''\n",
    "    vocabulary[\"<unk>\"]=0\n",
    "    for sentence in sentences: #for each row in the .tsv data file\n",
    "        for word in sentence.strip().split(): # each row is a string that is split into a list of words\n",
    "            word=re.sub(\"[.,:;'\\\"!?()]+\",\"\",word.lower()) # replace special characters with nothing, and make all words lowercase\n",
    "            if word not in vocabulary: # make sure each word is unique\n",
    "                vocabulary[word]=len(vocabulary) # assign an integer to the word\n",
    "\n",
    "\n",
    "def process_training_data(textFile,max_len):\n",
    "    data=[]\n",
    "    sentences = getLines(textFile) # a list of strings where each string corresponds to a row from the input textfile.\n",
    "    vocab = dict()\n",
    "    labels=[]\n",
    "    create_vocabulary(vocab, sentences) # a dictionary mapping every unique word in the sentences list, to an integer\n",
    "    for s in sentences: # each s in sentences is one string consisting of a review AND a boolean label of positive or negative.\n",
    "        words=[]\n",
    "        m=re.match(\"^([^\\t]+)\\t(.+)$\",s.rstrip())  # searches the string for a \"\\t\"\n",
    "        if m:\n",
    "            sentence=m.group(1) # first group is the text of the review (before the \"\\t\")\n",
    "            labels.append(int(m.group(2))) # second group (comes after \\t of the string, s) is the label\n",
    "            for w in sentence.split(\" \"):\n",
    "                w=re.sub(\"[.,:;'\\\"!?()]+\",\"\",w.lower()) # removes special characters, and makes everything lowercase\n",
    "                if w!='': # if there are words left\n",
    "                    words.append(vocab[w]) # append the integer from the vocabulary that represents word, w.\n",
    "        data.append(words)\n",
    "    data = pad_sequences(data, maxlen=max_len, padding='post') # pad with zeros so vectors are all the same length\n",
    "\n",
    "    return data,labels, vocab\n",
    "\n",
    "\n",
    "def process_test_data(textFile,vocab,max_len):\n",
    "    data=[]\n",
    "    sentences = getLines(textFile) # a list of strings where each string corresponds to a row from the input textfile.\n",
    "    labels=[]\n",
    "    create_vocabulary(vocab, sentences) # a dictionary mapping every unique word in the sentences list, to an integer\n",
    "    for s in sentences: # each s in sentences is one string consisting of a review AND a boolean label of positive or negative.\n",
    "        words=[]\n",
    "        m=re.match(\"^([^\\t]+)\\t(.+)$\",s.rstrip()) # searches the string for a \"\\t\"\n",
    "        if m:\n",
    "            sentence=m.group(1) # first group is the text of the review (before the \"\\t\")\n",
    "            labels.append(int(m.group(2))) # second group (comes after \\t of the string, s) is the label\n",
    "            for w in sentence.split(\" \"):\n",
    "                w=re.sub(\"[.,:;'\\\"!?()]+\",\"\",w.lower()) # removes special characters, and makes everything lowercase\n",
    "                if w!='': # if there are words left\n",
    "                    if w in vocab:\n",
    "                        words.append(vocab[w]) # append the integer from the vocabulary that represents word, w.\n",
    "                    else:\n",
    "                        words.append(vocab[\"<unk>\"])\n",
    "        data.append(words)\n",
    "    data = pad_sequences(data, maxlen=max_len, padding='post')\n",
    "    return data,labels\n",
    "\n",
    "\n"
   ]
  },
  {
   "cell_type": "code",
   "execution_count": 9,
   "metadata": {
    "pycharm": {
     "name": "#%%\n"
    }
   },
   "outputs": [
    {
     "name": "stdout",
     "output_type": "stream",
     "text": [
      "WARNING:tensorflow:From /Users/f005dm6/.conda/envs/DL4NLP/lib/python3.7/site-packages/tensorflow/python/ops/nn_impl.py:180: add_dispatch_support.<locals>.wrapper (from tensorflow.python.ops.array_ops) is deprecated and will be removed in a future version.\n",
      "Instructions for updating:\n",
      "Use tf.where in 2.0, which has the same broadcast rule as np.where\n",
      "Epoch 1/100\n",
      "700/700 [==============================] - 1s 746us/step - loss: 0.6967 - acc: 0.5357\n",
      "Epoch 2/100\n",
      "700/700 [==============================] - 0s 243us/step - loss: 0.6622 - acc: 0.5614\n",
      "Epoch 3/100\n",
      "700/700 [==============================] - 0s 232us/step - loss: 0.6297 - acc: 0.7143\n",
      "Epoch 4/100\n",
      "700/700 [==============================] - 0s 233us/step - loss: 0.5640 - acc: 0.7700\n",
      "Epoch 5/100\n",
      "700/700 [==============================] - 0s 231us/step - loss: 0.4704 - acc: 0.8843\n",
      "Epoch 6/100\n",
      "700/700 [==============================] - 0s 246us/step - loss: 0.3717 - acc: 0.9429\n",
      "Epoch 7/100\n",
      "700/700 [==============================] - 0s 250us/step - loss: 0.2824 - acc: 0.9643\n",
      "Epoch 8/100\n",
      "700/700 [==============================] - 0s 251us/step - loss: 0.2143 - acc: 0.9814\n",
      "Epoch 9/100\n",
      "700/700 [==============================] - 0s 227us/step - loss: 0.1630 - acc: 0.9900\n",
      "Epoch 10/100\n",
      "700/700 [==============================] - 0s 249us/step - loss: 0.1265 - acc: 0.9929\n",
      "Epoch 11/100\n",
      "700/700 [==============================] - 0s 228us/step - loss: 0.1002 - acc: 0.9943\n",
      "Epoch 12/100\n",
      "700/700 [==============================] - 0s 228us/step - loss: 0.0807 - acc: 0.9971\n",
      "Epoch 13/100\n",
      "700/700 [==============================] - 0s 240us/step - loss: 0.0666 - acc: 0.9971\n",
      "Epoch 14/100\n",
      "700/700 [==============================] - 0s 284us/step - loss: 0.0546 - acc: 1.0000\n",
      "Epoch 15/100\n",
      "700/700 [==============================] - 0s 238us/step - loss: 0.0456 - acc: 1.0000\n",
      "Epoch 16/100\n",
      "700/700 [==============================] - 0s 243us/step - loss: 0.0387 - acc: 1.0000\n",
      "Epoch 17/100\n",
      "700/700 [==============================] - 0s 225us/step - loss: 0.0334 - acc: 1.0000\n",
      "Epoch 18/100\n",
      "700/700 [==============================] - 0s 239us/step - loss: 0.0286 - acc: 1.0000\n",
      "Epoch 19/100\n",
      "700/700 [==============================] - 0s 241us/step - loss: 0.0253 - acc: 1.0000\n",
      "Epoch 20/100\n",
      "700/700 [==============================] - 0s 248us/step - loss: 0.0221 - acc: 1.0000\n",
      "Epoch 21/100\n",
      "700/700 [==============================] - 0s 230us/step - loss: 0.0196 - acc: 1.0000\n",
      "Epoch 22/100\n",
      "700/700 [==============================] - 0s 230us/step - loss: 0.0175 - acc: 1.0000\n",
      "Epoch 23/100\n",
      "700/700 [==============================] - 0s 228us/step - loss: 0.0157 - acc: 1.0000\n",
      "Epoch 24/100\n",
      "700/700 [==============================] - 0s 232us/step - loss: 0.0141 - acc: 1.0000\n",
      "Epoch 25/100\n",
      "700/700 [==============================] - 0s 234us/step - loss: 0.0129 - acc: 1.0000\n",
      "Epoch 26/100\n",
      "700/700 [==============================] - 0s 263us/step - loss: 0.0116 - acc: 1.0000\n",
      "Epoch 27/100\n",
      "700/700 [==============================] - 0s 230us/step - loss: 0.0106 - acc: 1.0000\n",
      "Epoch 28/100\n",
      "700/700 [==============================] - 0s 234us/step - loss: 0.0097 - acc: 1.0000\n",
      "Epoch 29/100\n",
      "700/700 [==============================] - 0s 226us/step - loss: 0.0089 - acc: 1.0000\n",
      "Epoch 30/100\n",
      "700/700 [==============================] - 0s 224us/step - loss: 0.0083 - acc: 1.0000\n",
      "Epoch 31/100\n",
      "700/700 [==============================] - 0s 228us/step - loss: 0.0076 - acc: 1.0000\n",
      "Epoch 32/100\n",
      "700/700 [==============================] - 0s 232us/step - loss: 0.0070 - acc: 1.0000\n",
      "Epoch 33/100\n",
      "700/700 [==============================] - 0s 227us/step - loss: 0.0066 - acc: 1.0000\n",
      "Epoch 34/100\n",
      "700/700 [==============================] - 0s 231us/step - loss: 0.0061 - acc: 1.0000\n",
      "Epoch 35/100\n",
      "700/700 [==============================] - 0s 238us/step - loss: 0.0057 - acc: 1.0000\n",
      "Epoch 36/100\n",
      "700/700 [==============================] - 0s 226us/step - loss: 0.0054 - acc: 1.0000\n",
      "Epoch 37/100\n",
      "700/700 [==============================] - 0s 236us/step - loss: 0.0050 - acc: 1.0000\n",
      "Epoch 38/100\n",
      "700/700 [==============================] - 0s 232us/step - loss: 0.0047 - acc: 1.0000\n",
      "Epoch 39/100\n",
      "700/700 [==============================] - 0s 232us/step - loss: 0.0045 - acc: 1.0000\n",
      "Epoch 40/100\n",
      "700/700 [==============================] - 0s 228us/step - loss: 0.0042 - acc: 1.0000\n",
      "Epoch 41/100\n",
      "700/700 [==============================] - 0s 231us/step - loss: 0.0040 - acc: 1.0000\n",
      "Epoch 42/100\n",
      "700/700 [==============================] - 0s 227us/step - loss: 0.0038 - acc: 1.0000\n",
      "Epoch 43/100\n",
      "700/700 [==============================] - 0s 228us/step - loss: 0.0036 - acc: 1.0000\n",
      "Epoch 44/100\n",
      "700/700 [==============================] - 0s 230us/step - loss: 0.0034 - acc: 1.0000\n",
      "Epoch 45/100\n",
      "700/700 [==============================] - 0s 230us/step - loss: 0.0032 - acc: 1.0000\n",
      "Epoch 46/100\n",
      "700/700 [==============================] - 0s 228us/step - loss: 0.0031 - acc: 1.0000\n",
      "Epoch 47/100\n",
      "700/700 [==============================] - 0s 226us/step - loss: 0.0029 - acc: 1.0000\n",
      "Epoch 48/100\n",
      "700/700 [==============================] - 0s 227us/step - loss: 0.0028 - acc: 1.0000\n",
      "Epoch 49/100\n",
      "700/700 [==============================] - 0s 227us/step - loss: 0.0026 - acc: 1.0000\n",
      "Epoch 50/100\n",
      "700/700 [==============================] - 0s 229us/step - loss: 0.0025 - acc: 1.0000\n",
      "Epoch 51/100\n",
      "700/700 [==============================] - 0s 229us/step - loss: 0.0024 - acc: 1.0000\n",
      "Epoch 52/100\n",
      "700/700 [==============================] - 0s 236us/step - loss: 0.0023 - acc: 1.0000\n",
      "Epoch 53/100\n",
      "700/700 [==============================] - 0s 229us/step - loss: 0.0022 - acc: 1.0000\n",
      "Epoch 54/100\n",
      "700/700 [==============================] - 0s 232us/step - loss: 0.0021 - acc: 1.0000\n",
      "Epoch 55/100\n",
      "700/700 [==============================] - 0s 231us/step - loss: 0.0020 - acc: 1.0000\n",
      "Epoch 56/100\n",
      "700/700 [==============================] - 0s 235us/step - loss: 0.0020 - acc: 1.0000\n",
      "Epoch 57/100\n",
      "700/700 [==============================] - 0s 226us/step - loss: 0.0019 - acc: 1.0000\n",
      "Epoch 58/100\n",
      "700/700 [==============================] - 0s 226us/step - loss: 0.0018 - acc: 1.0000\n",
      "Epoch 59/100\n",
      "700/700 [==============================] - 0s 242us/step - loss: 0.0017 - acc: 1.0000\n",
      "Epoch 60/100\n",
      "700/700 [==============================] - 0s 239us/step - loss: 0.0017 - acc: 1.0000\n",
      "Epoch 61/100\n",
      "700/700 [==============================] - 0s 239us/step - loss: 0.0016 - acc: 1.0000\n",
      "Epoch 62/100\n",
      "700/700 [==============================] - 0s 228us/step - loss: 0.0016 - acc: 1.0000\n",
      "Epoch 63/100\n",
      "700/700 [==============================] - 0s 225us/step - loss: 0.0015 - acc: 1.0000\n",
      "Epoch 64/100\n",
      "700/700 [==============================] - 0s 223us/step - loss: 0.0014 - acc: 1.0000\n",
      "Epoch 65/100\n",
      "700/700 [==============================] - 0s 231us/step - loss: 0.0014 - acc: 1.0000\n",
      "Epoch 66/100\n",
      "700/700 [==============================] - 0s 230us/step - loss: 0.0013 - acc: 1.0000\n",
      "Epoch 67/100\n",
      "700/700 [==============================] - 0s 227us/step - loss: 0.0013 - acc: 1.0000\n",
      "Epoch 68/100\n",
      "700/700 [==============================] - 0s 227us/step - loss: 0.0013 - acc: 1.0000\n",
      "Epoch 69/100\n",
      "700/700 [==============================] - 0s 223us/step - loss: 0.0012 - acc: 1.0000\n",
      "Epoch 70/100\n",
      "700/700 [==============================] - 0s 223us/step - loss: 0.0012 - acc: 1.0000\n",
      "Epoch 71/100\n",
      "700/700 [==============================] - 0s 224us/step - loss: 0.0011 - acc: 1.0000\n",
      "Epoch 72/100\n",
      "700/700 [==============================] - 0s 225us/step - loss: 0.0011 - acc: 1.0000\n",
      "Epoch 73/100\n",
      "700/700 [==============================] - 0s 222us/step - loss: 0.0011 - acc: 1.0000\n",
      "Epoch 74/100\n",
      "700/700 [==============================] - 0s 228us/step - loss: 0.0010 - acc: 1.0000\n",
      "Epoch 75/100\n",
      "700/700 [==============================] - 0s 223us/step - loss: 0.0010 - acc: 1.0000\n",
      "Epoch 76/100\n",
      "700/700 [==============================] - 0s 227us/step - loss: 9.7367e-04 - acc: 1.0000\n",
      "Epoch 77/100\n",
      "700/700 [==============================] - 0s 222us/step - loss: 9.4473e-04 - acc: 1.0000\n",
      "Epoch 78/100\n",
      "700/700 [==============================] - 0s 225us/step - loss: 9.1649e-04 - acc: 1.0000\n",
      "Epoch 79/100\n",
      "700/700 [==============================] - 0s 227us/step - loss: 8.9130e-04 - acc: 1.0000\n",
      "Epoch 80/100\n",
      "700/700 [==============================] - 0s 242us/step - loss: 8.6531e-04 - acc: 1.0000\n",
      "Epoch 81/100\n",
      "700/700 [==============================] - 0s 227us/step - loss: 8.4078e-04 - acc: 1.0000\n",
      "Epoch 82/100\n",
      "700/700 [==============================] - 0s 223us/step - loss: 8.1795e-04 - acc: 1.0000\n",
      "Epoch 83/100\n",
      "700/700 [==============================] - 0s 224us/step - loss: 7.9482e-04 - acc: 1.0000\n",
      "Epoch 84/100\n",
      "700/700 [==============================] - 0s 223us/step - loss: 7.7240e-04 - acc: 1.0000\n",
      "Epoch 85/100\n",
      "700/700 [==============================] - 0s 226us/step - loss: 7.5214e-04 - acc: 1.0000\n",
      "Epoch 86/100\n",
      "700/700 [==============================] - 0s 240us/step - loss: 7.3102e-04 - acc: 1.0000\n",
      "Epoch 87/100\n",
      "700/700 [==============================] - 0s 243us/step - loss: 7.1138e-04 - acc: 1.0000\n",
      "Epoch 88/100\n",
      "700/700 [==============================] - 0s 226us/step - loss: 6.9376e-04 - acc: 1.0000\n",
      "Epoch 89/100\n",
      "700/700 [==============================] - 0s 227us/step - loss: 6.7516e-04 - acc: 1.0000\n",
      "Epoch 90/100\n",
      "700/700 [==============================] - 0s 231us/step - loss: 6.5866e-04 - acc: 1.0000\n",
      "Epoch 91/100\n",
      "700/700 [==============================] - 0s 415us/step - loss: 6.4063e-04 - acc: 1.0000\n",
      "Epoch 92/100\n",
      "700/700 [==============================] - 0s 246us/step - loss: 6.2454e-04 - acc: 1.0000\n",
      "Epoch 93/100\n",
      "700/700 [==============================] - 0s 242us/step - loss: 6.0897e-04 - acc: 1.0000\n",
      "Epoch 94/100\n",
      "700/700 [==============================] - 0s 234us/step - loss: 5.9342e-04 - acc: 1.0000\n",
      "Epoch 95/100\n",
      "700/700 [==============================] - 0s 243us/step - loss: 5.7846e-04 - acc: 1.0000\n",
      "Epoch 96/100\n",
      "700/700 [==============================] - 0s 629us/step - loss: 5.6475e-04 - acc: 1.0000\n",
      "Epoch 97/100\n",
      "700/700 [==============================] - 0s 449us/step - loss: 5.5131e-04 - acc: 1.0000\n",
      "Epoch 98/100\n",
      "700/700 [==============================] - 0s 243us/step - loss: 5.3737e-04 - acc: 1.0000\n",
      "Epoch 99/100\n",
      "700/700 [==============================] - 0s 255us/step - loss: 5.2562e-04 - acc: 1.0000\n",
      "Epoch 100/100\n",
      "700/700 [==============================] - 0s 236us/step - loss: 5.1204e-04 - acc: 1.0000\n",
      "0.7133333086967468\n"
     ]
    }
   ],
   "source": [
    "\n",
    "train_dat_path = '../Data/RestaurantReviews_training.tsv'\n",
    "test_dat_path = '../Data/RestaurantReviews_test.tsv'\n",
    "\n",
    "max_len=100\n",
    "data,labels,vocab=process_training_data(train_dat_path, max_len)\n",
    "test_data,test_labels=process_test_data(test_dat_path,vocab,max_len)\n",
    "\n",
    "model = Sequential()\n",
    "embedding=Embedding(len(vocab), 100, input_length=max_len)\n",
    "model.add(embedding)\n",
    "model.add(Flatten()) # flattens a multidimensional embedding into a one-dimensional string\n",
    "model.add(Dense(units=1,activation=\"sigmoid\"))  # units=1 is the dimensionality of the output space\n",
    "model.compile(loss='binary_crossentropy', optimizer='adam',metrics=['acc'])\n",
    "model.fit(data,labels,epochs=100, verbose=1) # an epoch is an iteration; leave one out cross-validation\n",
    "\n",
    "loss, accuracy = model.evaluate(test_data, test_labels, verbose=0)\n",
    "print(accuracy)\n",
    "\n",
    "save_embedding(\"embedding_labeled.txt\", embedding.get_weights()[0], vocab)\n",
    "\n"
   ]
  },
  {
   "cell_type": "markdown",
   "metadata": {
    "pycharm": {
     "name": "#%% md\n"
    }
   },
   "source": [
    "Now that we have learned embeddings for each word in the vocabulary, we can look at nearest neighbors"
   ]
  },
  {
   "cell_type": "code",
   "execution_count": null,
   "metadata": {
    "pycharm": {
     "name": "#%%\n"
    }
   },
   "outputs": [],
   "source": [
    "from gensim.models import KeyedVectors # gensime is a topic modeling package\n",
    "import gensim.models\n",
    "import os\n",
    "\n",
    "w2v = gensim.models.KeyedVectors.load_word2vec_format('embedding_labeled.txt', binary=False, unicode_errors='ignore')\n",
    "\n",
    "for w in  sorted(w2v.wv.vocab):\n",
    "    print(w,w2v.most_similar(w,topn=3))"
   ]
  },
  {
   "cell_type": "markdown",
   "metadata": {
    "pycharm": {
     "name": "#%% md\n"
    }
   },
   "source": [
    "## 3.2 From Words to Vectors: word2vec\n",
    "\n",
    "The Word2Vec algorithm is a procedural (learned) embedding. The vector representations of words obtained with Word2Vec express similarities between words based on their context: the words that share similar contexts end up having similar numerical vector representations.\n",
    "\n",
    "In our example, we wll use Word2Vec to predict contexts from words, in order to build a tool that suggests synonyms in an editor. For instance, given a string like “the restaurant has a terrible ambiance and the food is awful” we want to predict if the words ‘terrible’ for ‘restaurant’ and ‘awful’ for ‘food’ are valid context words.\n",
    "\n",
    "To do that, we need both positive and negative examples of surrounding contexts. To get negative examples, we use the procedure called “negative sampling”. First, we map words to integers. Second, using a random generator and a fixed context window size, we sample positive examples, as well as negative ones. This produces couples of integers (input word, context word) and associated labels - 0 for an invalid context and 1 for a valid one."
   ]
  },
  {
   "cell_type": "code",
   "execution_count": null,
   "metadata": {
    "pycharm": {
     "name": "#%%\n"
    }
   },
   "outputs": [],
   "source": [
    "from keras.preprocessing.sequence import skipgrams\n",
    "\n",
    "sentence = \"the restaurant has a terrible ambiance and the food is awful\"\n",
    "sequence=[vocab[w] for w in sentence.split(\" \")]\n",
    "vocab = dict()\n",
    "create_vocabulary(vocab, sentence)\n",
    "skipgrams(sequence, 100, window_size=3)"
   ]
  },
  {
   "cell_type": "markdown",
   "metadata": {
    "pycharm": {
     "name": "#%% md\n"
    }
   },
   "source": [
    "# Processing data for Word2Vec."
   ]
  },
  {
   "cell_type": "code",
   "execution_count": null,
   "metadata": {
    "pycharm": {
     "name": "#%%\n"
    }
   },
   "outputs": [],
   "source": [
    "from keras.models import Model\n",
    "from keras.layers import Input, Dense, Reshape, dot\n",
    "from keras.layers.embeddings import Embedding\n",
    "from keras.preprocessing.sequence import skipgrams\n",
    "from keras.preprocessing import sequence\n",
    "\n",
    "import numpy as np\n",
    "import sys\n",
    "\n",
    "import random\n",
    "import re\n",
    "import codecs\n",
    "\n",
    "def save_embeddings(save_filepath, weights, vocabulary):\n",
    "        rev = {v:k for k, v in vocabulary.items()}\n",
    "        with codecs.open(save_filepath, \"w\") as f:\n",
    "            f.write(str(len(vocabulary)) + \" \" + str(weights.shape[1]) + \"\\n\")\n",
    "            for index in sorted(rev.keys()):\n",
    "                word=rev[index]\n",
    "                f.write(word + \" \")\n",
    "                for i in range(len(weights[index])):\n",
    "                    f.write(str(weights[index][i]) + \" \")\n",
    "                    f.write(\"\\n\")\n",
    "\n",
    "\n",
    "def getLines(f):\n",
    "    lines = [line.rstrip() for line in open(f)]\n",
    "    return lines\n",
    "\n",
    "\n",
    "# a function that loops over skipgrams (created by process_data function below) during the training phase of the model,\n",
    "# picking out random samples and labels and feeding them as batches to the model.\n",
    "def generator(target,context, labels, batch_size):\n",
    "    batch_target = np.zeros((batch_size, 1))\n",
    "    batch_context = np.zeros((batch_size, 1))\n",
    "    batch_labels = np.zeros((batch_size,1))\n",
    "\n",
    "    while True:\n",
    "        for i in range(batch_size):\n",
    "            index= random.randint(0,len(target)-1)\n",
    "            batch_target[i] = target[index]\n",
    "            batch_context[i]=context[index]\n",
    "            batch_labels[i] = labels[index]\n",
    "        yield [batch_target,batch_context], [batch_labels]\n",
    "\n",
    "# a function for processing raw data (plain sentences) for skipgrams, and collecting all skupgrams and their labels for the entire dataset\n",
    "def process_data(textFile,window_size):\n",
    "    couples=[] # for pairs of words: input word and context word\n",
    "    labels=[] # for their labels\n",
    "    sentences = getLines(textFile)\n",
    "    vocab = dict()\n",
    "    create_vocabulary(vocab, sentences)\n",
    "    vocab_size=len(vocab)\n",
    "    for s in sentences:\n",
    "        words=[]\n",
    "        for w in s.split(\" \"):\n",
    "            w=re.sub(\"[.,:;'\\\"!?()]+\",\"\",w.lower())\n",
    "            if w!='':\n",
    "                words.append(vocab[w])\n",
    "        c,l=skipgrams(words,vocab_size,window_size=window_size) # creating skupgrams - word pairs with corresponding labels.\n",
    "        couples.extend(c)\n",
    "        labels.extend(l)\n",
    "    return vocab,couples,labels\n",
    "\n",
    "\n",
    "def  create_vocabulary(vocabulary, sentences):\n",
    "    vocabulary[\"<unk>\"]=0\n",
    "    for sentence in sentences:\n",
    "        for word in sentence.strip().split():\n",
    "            word=re.sub(\"[.,:;'\\\"!?()]+\",\"\",word.lower())\n",
    "            if word not in vocabulary:\n",
    "                vocabulary[word]=len(vocabulary)\n",
    "\n",
    "\n",
    "window_size = 3\n",
    "vector_dim = 100\n",
    "epochs = 1000\n",
    "\n",
    "\n",
    "file_path = 'embedding_labeled.txt'\n",
    "vocab,couples,labels=process_data(file_path,window_size)\n",
    "\n",
    "vocab_size=len(vocab)\n",
    "\n",
    "# Splitting the generated couples into the target words (input) and the context words.\n",
    "word_target, word_context = zip(*couples)\n",
    "word_target = np.array(word_target, dtype=\"int32\")\n",
    "word_context = np.array(word_context, dtype=\"int32\")\n",
    "\n",
    "# Targets and contexts consist of one-dimensional input layers.\n",
    "input_target = Input((1,))\n",
    "input_context = Input((1,))\n",
    "\n",
    "# Our embedding accepts inputs of size 1 and maps them to vectors of size vector_dim, and does it for a total of vocab_size different words.\n",
    "embedding = Embedding(vocab_size, vector_dim, input_length=1, name='embedding')\n",
    "# Embedding the targets and reshaping them to the desired vector length.\n",
    "target = embedding(input_target)\n",
    "target = Reshape((vector_dim, 1))(target)\n",
    "# Embedding the contexts and reshaping them to the desired vector length.\n",
    "context = embedding(input_context)\n",
    "context = Reshape((vector_dim, 1))(context)\n",
    "\n",
    "# Calculating the dot product of the target and context vectors. This dot product is an intermediate representation upon which the final classification (whether for a given target word the context word is valid or not).\n",
    "dot_product = dot([target, context], axes=1)\n",
    "dot_product = Reshape((1,))(dot_product)\n",
    "output = Dense(1, activation='sigmoid')(dot_product)\n",
    "model = Model(input=[input_target, input_context], output=output)\n",
    "model.compile(loss='binary_crossentropy', optimizer='adam',metrics=['acc'])\n",
    "\n",
    "print(model.summary())\n",
    "\n",
    "epochs=int(1)\n",
    "\n",
    "# Feeding random batches (100 cases each) of target words, context words and labels, for 1000 epochs. Every epoch carries 100 optimization steps.\n",
    "model.fit_generator(generator(word_target, word_context,labels,100), steps_per_epoch=100, epochs=epochs)\n",
    "\n",
    "#Extracting the per-word weights from the shared embedding. These weights constitute the Word2Vec embedding for the input words.\n",
    "save_embeddings(\"embedding.txt\", embedding.get_weights()[0], vocab)\n",
    "\n",
    "exit(0)"
   ]
  },
  {
   "cell_type": "code",
   "execution_count": null,
   "metadata": {
    "pycharm": {
     "name": "#%%\n"
    }
   },
   "outputs": [],
   "source": [
    "# These are my Lovely Additions I really know Deep Learning and NLP and Github. Please hire/save me"
   ]
  },
  {
   "cell_type": "markdown",
   "metadata": {
    "pycharm": {
     "name": "#%% md\n"
    }
   },
   "source": [
    "## 3.3 From Documents to Vector: doc2vec\n",
    "\n",
    "a random thing"
   ]
  }
 ],
 "metadata": {
  "kernelspec": {
   "name": "python3713jvsc74a57bd011645b4c5e807595040182e353e47770cd2ac171a641d7dab885eb92ea00a149",
   "language": "python",
   "display_name": "Python 3.7.13 ('DL4NLP')"
  },
  "language_info": {
   "codemirror_mode": {
    "name": "ipython",
    "version": 3
   },
   "file_extension": ".py",
   "mimetype": "text/x-python",
   "name": "python",
   "nbconvert_exporter": "python",
   "pygments_lexer": "ipython3",
   "version": "3.9.7"
  }
 },
 "nbformat": 4,
 "nbformat_minor": 1
}